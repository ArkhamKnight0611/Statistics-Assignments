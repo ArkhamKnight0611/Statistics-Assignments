{
  "nbformat": 4,
  "nbformat_minor": 0,
  "metadata": {
    "colab": {
      "provenance": []
    },
    "kernelspec": {
      "name": "python3",
      "display_name": "Python 3"
    },
    "language_info": {
      "name": "python"
    }
  },
  "cells": [
    {
      "cell_type": "markdown",
      "source": [
        "The main difference between a t-test and a z-test lies in the type of data you are dealing with and the assumptions made about the population standard deviation:\n",
        "\n",
        "T-Test:\n",
        "\n",
        "Sample Size: Typically used when the sample size is small (n < 30).\n",
        "Population Standard Deviation: Assumptions are made about the population standard deviation (σ) because the sample size is small. The population standard deviation is often unknown, and the sample standard deviation (s) is used as an estimate.\n",
        "Distribution: The test statistic follows a t-distribution, which has heavier tails than the normal (z) distribution.\n",
        "Z-Test:\n",
        "\n",
        "Sample Size: Typically used when the sample size is large (n ≥ 30).\n",
        "Population Standard Deviation: Assumptions are made about the population standard deviation (σ) because the sample size is large. The population standard deviation is often known, or the sample size is large enough that the sample standard deviation (s) is a good approximation of the population standard deviation.\n",
        "Distribution: The test statistic follows a standard normal (z) distribution.\n",
        "Here are example scenarios for when you would use each type of test:\n",
        "\n",
        "T-Test:\n",
        "\n",
        "Scenario: A researcher wants to test whether a new teaching method has a statistically significant effect on student test scores.\n",
        "Sample Size: The researcher selects a small group of 20 students for the study.\n",
        "Population Standard Deviation: The population standard deviation of test scores is not known, so the researcher uses the sample standard deviation as an estimate.\n",
        "Test Type: This situation calls for a one-sample t-test or a paired t-test, depending on the design of the study.\n",
        "Z-Test:\n",
        "\n",
        "Scenario: A manufacturer produces light bulbs, and they want to test if the average lifespan of their bulbs is consistent with their advertised value of 1000 hours.\n",
        "Sample Size: The manufacturer tests 1000 randomly selected bulbs from their production line.\n",
        "Population Standard Deviation: The manufacturer has historical data and knows the population standard deviation of bulb lifespans.\n",
        "Test Type: This scenario calls for a one-sample z-test."
      ],
      "metadata": {
        "id": "a2YfNHeNJOZI"
      }
    },
    {
      "cell_type": "markdown",
      "source": [
        "One-Tailed Test and Two-Tailed Test are two types of hypothesis tests that differ in terms of the directionality of the test and the way they assess the alternative hypothesis. Here's how they differ:\n",
        "\n",
        "One-Tailed Test:\n",
        "\n",
        "Directionality: In a one-tailed test, you are specifically testing for the effect in one direction (either greater than or less than), but not both.\n",
        "\n",
        "Alternative Hypothesis (Ha): A one-tailed test has a specific alternative hypothesis that predicts the direction of the effect. There are two types of one-tailed tests:\n",
        "\n",
        "Upper-Tailed Test: Used when you want to test if a parameter is greater than a certain value.\n",
        "Ha: μ > μ0 (for testing a population mean)\n",
        "Ha: p > p0 (for testing a population proportion)\n",
        "Lower-Tailed Test: Used when you want to test if a parameter is less than a certain value.\n",
        "Ha: μ < μ0 (for testing a population mean)\n",
        "Ha: p < p0 (for testing a population proportion)\n",
        "Critical Region: The critical region (rejection region) of the distribution is on one side (either the right or left), depending on the direction of the test.\n",
        "\n",
        "P-Value: The p-value is calculated for only one tail of the distribution, corresponding to the direction specified in the alternative hypothesis.\n",
        "\n",
        "Two-Tailed Test:\n",
        "\n",
        "Directionality: In a two-tailed test, you are testing for the effect in both directions (greater than and less than).\n",
        "\n",
        "Alternative Hypothesis (Ha): A two-tailed test has a non-directional alternative hypothesis that predicts a significant difference but does not specify the direction. It is used when you want to test if a parameter is different from a certain value.\n",
        "\n",
        "Ha: μ ≠ μ0 (for testing a population mean)\n",
        "Ha: p ≠ p0 (for testing a population proportion)\n",
        "Critical Region: The critical region (rejection region) of the distribution is divided into two tails (both right and left).\n",
        "\n",
        "P-Value: The p-value is calculated for both tails of the distribution, corresponding to values greater than and less than the observed statistic.\n",
        "\n",
        "Example:\n",
        "Suppose you want to test whether a new drug increases the average reaction time in a group of participants.\n",
        "\n",
        "In a one-tailed test, you might specify:\n",
        "\n",
        "Null Hypothesis (H0): The drug has no effect (μ = μ0).\n",
        "Alternative Hypothesis (Ha): The drug increases reaction time (μ > μ0).\n",
        "In a two-tailed test, you might specify:\n",
        "\n",
        "Null Hypothesis (H0): The drug has no effect (μ = μ0).\n",
        "Alternative Hypothesis (Ha): The drug has an effect, either increasing or decreasing reaction time (μ ≠ μ0).\n",
        "In the one-tailed test, you're specifically testing if the drug increases reaction time, whereas in the two-tailed test, you're testing if the drug has any effect, regardless of direction."
      ],
      "metadata": {
        "id": "s5ZZ3It7JZg8"
      }
    },
    {
      "cell_type": "markdown",
      "source": [
        "Type I and Type II errors are two types of errors that can occur in hypothesis testing:\n",
        "\n",
        "Type I Error:\n",
        "\n",
        "Definition: Type I error, also known as a false positive or alpha error, occurs when you reject a null hypothesis that is actually true.\n",
        "Symbol: Often denoted as α (alpha).\n",
        "Example Scenario:\n",
        "Imagine a quality control inspector at a manufacturing plant who checks each product for defects before it leaves the factory. The null hypothesis (H0) is that a product is defect-free.\n",
        "A Type I error would occur if the inspector mistakenly rejects a product as defective (rejects H0) when it's actually perfectly fine (H0 is true). This could lead to unnecessary product rejections, increased production costs, and customer dissatisfaction.\n",
        "Type II Error:\n",
        "\n",
        "Definition: Type II error, also known as a false negative or beta error, occurs when you fail to reject a null hypothesis that is actually false.\n",
        "Symbol: Often denoted as β (beta).\n",
        "Example Scenario:\n",
        "Continuing with the manufacturing example, suppose the inspector's job is to identify defective products. The null hypothesis (H0) is that a product is defect-free.\n",
        "A Type II error would occur if the inspector fails to detect a defective product (fails to reject H0) when it's actually defective (H0 is false). This could lead to defective products reaching customers, potential safety hazards, and reputational damage for the company."
      ],
      "metadata": {
        "id": "-wHFag8tKvrr"
      }
    },
    {
      "cell_type": "markdown",
      "source": [
        "Bayes’ theorem describes the probability of occurrence of an event related to any condition. It is also considered for the case of conditional probability. Bayes theorem is also known as the formula for the probability of “causes”. For example: if we have to calculate the probability of taking a blue ball from the second bag out of three different bags of balls, where each bag contains three different colour balls viz. red, blue, black. In this case, the probability of occurrence of an event is calculated depending on other conditions is known as conditional probability.\n",
        "\n",
        "P(A∣B)= P(A⋂B)/P(B) = P(A)⋅P(B∣A)/P(B)\n",
        "\n",
        "where:\n",
        "P(A)= The probability of A occurring\n",
        "P(B)= The probability of B occurring\n",
        "P(A∣B)=The probability of A given B\n",
        "P(B∣A)= The probability of B given A\n",
        "P(A⋂B)= The probability of both A and B occurring\n",
        "​\n",
        "\n",
        "Examples of Bayes' Theorem\n",
        "Below are two examples of Bayes' Theorem in which the first example shows how the formula can be derived in a stock investing example using Amazon.com Inc. (AMZN). The second example applies Bayes' theorem to pharmaceutical drug testing."
      ],
      "metadata": {
        "id": "E4oGOHKJK_oZ"
      }
    },
    {
      "cell_type": "markdown",
      "source": [
        "A confidence interval is a range of values that is likely to contain the true population parameter, such as the population mean or population proportion, with a certain level of confidence. It provides a measure of the uncertainty or variability in estimating population parameters from sample data.\n",
        "\n",
        "In a confidence interval, you specify a confidence level, often expressed as a percentage (e.g., 95% confidence interval), which represents the probability that the interval contains the true parameter. Common confidence levels include 90%, 95%, and 99%.\n",
        "\n",
        "To calculate a confidence interval, you typically follow these steps:\n",
        "\n",
        "Collect Sample Data: Obtain a random sample from the population of interest. The sample should be representative of the population.\n",
        "\n",
        "Select a Confidence Level: Choose a confidence level (e.g., 95%). This level represents the probability that the interval will contain the true parameter in repeated sampling.\n",
        "\n",
        "Choose a Statistical Distribution: Select the appropriate probability distribution based on the type of data you have. Common distributions include the normal distribution for continuous data and the binomial distribution for proportions.\n",
        "\n",
        "Calculate the Standard Error: Determine the standard error (SE) of the sample statistic (mean or proportion) using the selected distribution and sample size.\n",
        "\n",
        "Find the Critical Values: Determine the critical values from the selected distribution's cumulative distribution function (CDF) that correspond to the desired confidence level. For example, for a 95% confidence interval with a normal distribution, you would use critical values z* such that the middle 95% of the distribution is between -z* and z*.\n",
        "\n",
        "Calculate the Margin of Error (MOE): The margin of error is calculated as the critical value (z*) multiplied by the standard error (SE).\n",
        "\n",
        "Calculate the Confidence Interval: Construct the confidence interval by adding and subtracting the margin of error from the sample statistic (mean or proportion). The formula is usually written as:\n",
        "Confidence Interval\n",
        "=\n",
        "Sample Statistic\n",
        "±\n",
        "Margin of Error\n",
        "Confidence Interval=Sample Statistic±Margin of Error\n",
        "\n",
        "Example:\n",
        "\n",
        "Let's say you want to estimate the average height of adult males in a city with a 95% confidence interval. You take a random sample of 100 adult males and find that the sample mean height is 175 cm, and the sample standard deviation is 8 cm.\n",
        "Sample Data: Sample mean (mu) = 175 cm, Sample standard deviation (s) = 8 cm, Sample size (n) = 100.\n",
        "Confidence Level: 95% (often denoted as 1−α=0.95).\n",
        "\n",
        "Distribution: Since the sample size is large (n ≥ 30), you can use the normal distribution.\n",
        "Calculate the Standard Error: s/sqrt n =0.8cm\n",
        "\n",
        "Find the Critical Values: For a 95% confidence interval with a normal distribution, you use critical values z* such that z∗ corresponds to the middle 95% of the normal distribution. For a two-tailed 95% confidence interval,\n",
        "z∗ is approximately ±1.96.\n",
        "\n",
        "Calculate the Margin of Error:\n",
        "MOE=z∗⋅SE=1.96⋅0.8=1.568cm\n",
        "\n",
        "Calculate the Confidence Interval:\n",
        "Confidence Interval=175±1.568cm=(173.432cm,176.568cm)\n",
        "\n",
        "So, with 95% confidence, you can estimate that the average height of adult males in the city falls within the range of approximately 173.43 cm to 176.57 cm."
      ],
      "metadata": {
        "id": "PpyHR0iFNuDg"
      }
    },
    {
      "cell_type": "markdown",
      "source": [
        "Consider a medical scenario in which we want to calculate the probability that a patient has a certain disease (D) given a positive test result (T+). We have the following information:\n",
        "\n",
        "Prior Probability of Disease: 0.01\n",
        "P(D)=0.01 (1% of the population has the disease).\n",
        "Probability of a Positive Test Result if Diseased: 0.99\n",
        "P(T+∣D)=0.99 (the test is 99% accurate for diseased individuals).\n",
        "Probability of a Positive Test Result if Not Diseased:\n",
        "0.05\n",
        "P(T+∣¬D)=0.05 (the test has a 5% false positive rate).\n",
        "We want to calculate\n",
        "P(D∣T+), which is the probability that the patient has the disease given a positive test result.\n",
        "\n",
        "Solution:\n",
        "\n",
        "We can use Bayes' Theorem to calculate\n",
        "P(D∣T+) as follows:\n",
        "P(D∣T+)= P(T+∣D)⋅P(D)/P(T+)\n",
        "​\n",
        "\n",
        "\n",
        "We'll need to calculate\n",
        "P(T+), which can be found using the law of total probability:\n",
        "P(T+)=P(T+∣D)⋅P(D)+P(T+∣¬D)⋅P(¬D)\n",
        "\n",
        "Here,\n",
        "P(¬D) is the probability of not having the disease, which is\n",
        "1−P(D).\n",
        "\n",
        "Calculate\n",
        "P(T+)=(0.99⋅0.01)+(0.05⋅0.99)=0.0594\n",
        "\n",
        "Now, calculate\n",
        "\n",
        "P(D∣T+) using Bayes' Theorem:P(D∣T+)= P(T+∣D)⋅P(D)/P(T+)= 0.99⋅0.01/0.0594\n",
        "≈0.1667\n",
        "\n",
        "So, with a positive test result, the probability that the patient actually has the disease is approximately 0.1667 or 16.67%.\n",
        "\n",
        "This calculation demonstrates how Bayes' Theorem can be used to update our beliefs (the prior probability of disease) with new evidence (the positive test result) to estimate the probability of an event (having the disease). It's particularly useful in medical diagnostics and many other fields where evidence is used to update probabilities."
      ],
      "metadata": {
        "id": "0cJAqjJSTA_4"
      }
    },
    {
      "cell_type": "markdown",
      "source": [
        "To calculate a 95% confidence interval for a sample of data with a mean of 50 and a standard deviation of 5, you can use the formula for the confidence interval for a population mean when the population standard deviation is known. The formula is:\n",
        "\n",
        "Confidence Interval=Sample Mean±Z⋅(Population Standard Deviation/sqrt Sample Size)\n",
        "Where:\n",
        "\n",
        "\n",
        "Sample Mean = 50\n",
        "Population Standard Deviation = 5\n",
        "Sample Size is typically not provided in your question. Please provide the sample size.\n",
        "We also need the value of\n",
        "Z, which corresponds to the critical value for a 95% confidence interval. For a 95% confidence interval with a normal distribution,\n",
        "Z is approximately 1.96.\n",
        "\n",
        "Now, let's calculate the confidence interval once you provide the sample size\n",
        "\n",
        "Confidence Interval=50±1.96⋅(5/sqrt Sample Size)\n",
        "\n",
        "Once we have the sample size, we can plug it into the formula and calculate the confidence interval.\n",
        "\n",
        "Interpretation:\n",
        "The 95% confidence interval represents a range of values within which we are 95% confident that the true population mean lies. In this case, if you were to take many samples and calculate 95% confidence intervals for each, you would expect about 95% of those intervals to contain the true population mean.\n",
        "\n",
        "For example, if you find that the confidence interval is (49.1, 50.9) with a sample size of, let's say, 100, you can interpret it as follows: \"We are 95% confident that the true population mean lies between 49.1 and 50.9, based on our sample data.\""
      ],
      "metadata": {
        "id": "Vvr-Y4mAUjMq"
      }
    },
    {
      "cell_type": "markdown",
      "source": [
        "The margin of error (MOE) in a confidence interval is a measure of the precision or accuracy of the estimate of a population parameter, such as the population mean or proportion. It quantifies the range within which the true population parameter is likely to fall. The margin of error is typically expressed as a positive value and is related to the confidence level.\n",
        "\n",
        "Here's the general formula for the margin of error for a confidence interval for a population mean when the population standard deviation is known:\n",
        "\n",
        "\n",
        "Margin of Error (MOE)=Z⋅( Population Standard Deviation/sqrt Sample Size)\n",
        "Where:\n",
        "Z is the critical value corresponding to the chosen confidence level.\n",
        "Population Standard Deviation is the known standard deviation of the population.\n",
        "Sample Size is the number of observations in the sample.\n",
        "Now, let's discuss how sample size affects the margin of error:\n",
        "\n",
        "Sample Size and Margin of Error:\n",
        "\n",
        "Inverse Relationship: The margin of error and sample size have an inverse relationship. As the sample size increases, the margin of error decreases.\n",
        "\n",
        "Larger Samples Lead to More Precision: Increasing the sample size allows you to collect more data points, which reduces the uncertainty in your estimate. A larger sample provides more information about the population, leading to a more precise estimate of the population parameter.\n",
        "\n",
        "Example Scenario:\n",
        "\n",
        "Suppose you want to estimate the average income of households in a city with a 95% confidence interval. You have two options:\n",
        "\n",
        "Option 1: You collect a sample of 50 households and calculate the 95% confidence interval, resulting in a margin of error of $500.\n",
        "\n",
        "Option 2: You collect a larger sample of 500 households and calculate the 95% confidence interval, resulting in a margin of error of $200.\n",
        "\n",
        "In this scenario, Option 2 with the larger sample size has a smaller margin of error. This means that you can be more confident that the true average income of households in the city falls within a narrower range ($200) compared to Option 1 ($500). The larger sample size provides a more precise estimate due to the reduced variability in the data, which leads to a smaller margin of error."
      ],
      "metadata": {
        "id": "EQqCvUDM3GoI"
      }
    },
    {
      "cell_type": "markdown",
      "source": [
        "To calculate the z-score for a data point with a value of 75, a population mean of 70, and a population standard deviation of 5, you can use the formula for the z-score, which measures how many standard deviations a data point is away from the mean:\n",
        "\n",
        "Z= X−μ/σ\n",
        "​\n",
        "Where:\n",
        "Z is the z-score.\n",
        "X is the data point's value (75 in this case).\n",
        "μ is the population mean (70 in this case).\n",
        "σ is the population standard deviation (5 in this case).\n",
        "Now, let's calculate the z-score:\n",
        "75−70/5=1\n",
        "\n",
        "Interpretation:\n",
        "The z-score of 1 indicates that the data point with a value of 75 is 1 standard deviation above the population mean of 70. In other words, it is located in the upper tail of the distribution and is 1 standard deviation away from the mean in the positive direction. This means that the data point is higher than the average value of the population."
      ],
      "metadata": {
        "id": "3a6ZF0rP6fiq"
      }
    },
    {
      "cell_type": "markdown",
      "source": [
        "To conduct a hypothesis test to determine if the new weight loss drug is significantly effective at a 95% confidence level using a t-test, we need to set up the null hypothesis (Ho) and the alternative hypothesis (H1), choose the appropriate t-test, calculate the test statistic, and compare it to the critical value or p-value.\n",
        "\n",
        "Here are the steps:\n",
        "\n",
        "Step 1: Hypotheses\n",
        "\n",
        "Null Hypothesis (Ho): The new weight loss drug is not significantly effective, and the population mean weight loss (μ) is equal to or greater than 0 pounds.\n",
        " :μ≥0\n",
        "Alternative Hypothesis (H1): The new weight loss drug is significantly effective, and the population mean weight loss (μ) is less than 0 pounds (one-tailed test).\n",
        "H1 :μ<0\n",
        "Step 2: Significance Level\n",
        "\n",
        "The significance level (α) is 0.05 for a 95% confidence level.\n",
        "\n",
        "Step 3: Choose the Test\n",
        "\n",
        "Since we are comparing a sample mean to a known value (0 pounds) and the sample size is small (n = 50), we will use a one-sample t-test for the mean.\n",
        "\n",
        "Step 4: Calculate the Test Statistic\n",
        "\n",
        "The formula for the t-statistic in a one-sample t-test is:\n",
        "\n",
        "Where:\n",
        "\n",
        "x mu is the sample mean (6 pounds).\n",
        "μ is the population mean under the null hypothesis (0 pounds).\n",
        "s is the sample standard deviation (2.5 pounds).\n",
        "n is the sample size (50).\n",
        "Let's calculate the t-statistic:\n",
        "\n",
        "t=(6−0)/(2.5/sqrt50)\n",
        "\n",
        "Now, calculate the t-statistic.\n",
        "\n",
        "Step 5: Determine the Critical Value or p-value\n",
        "\n",
        "For a one-tailed t-test at a 95% confidence level and 49 degrees of freedom (n−1), you can find the critical value or p-value using a t-table or statistical software. Since it's a one-tailed test (we're looking for a decrease in weight), we'll focus on the left tail of the t-distribution.\n",
        "Using a t-table or calculator, the critical t-value at\n",
        "α=0.05 and 49 degrees of freedom is approximately -1.676.\n",
        "Step 6: Make a Decision\n",
        "\n",
        "If the calculated t-statistic is less than the critical t-value (-1.676), we will reject the null hypothesis in favor of the alternative hypothesis.\n",
        "If the calculated t-statistic is greater than or equal to the critical t-value (-1.676), we will fail to reject the null hypothesis.\n",
        "Step 7: Conclusion\n",
        "Compare the calculated t-statistic to the critical t-value:\n",
        "If\n",
        "t<−1.676, reject\n",
        " Conclude that the new weight loss drug is significantly effective at a 95% confidence level.\n",
        "If\n",
        "t≥−1.676, fail to reject\n",
        " . Conclude that there is not enough evidence to suggest that the new weight loss drug is significantly effective at a 95% confidence level.\n",
        "Perform the calculations to determine whether to reject or fail to reject the null hypothesis based on the t-statistic value."
      ],
      "metadata": {
        "id": "eosf2QbG6yHg"
      }
    },
    {
      "cell_type": "markdown",
      "source": [
        "\n",
        "To calculate the 95% confidence interval for the true proportion of people who are satisfied with their job, you can use the formula for a confidence interval for a population proportion. The formula is:\n",
        "\n",
        "Confidence Interval=\n",
        "p^​ ±Z⋅ sqrt {p^ (1− p^)/n}\n",
        "\n",
        "Where:\n",
        "p^​ is the sample proportion (65% or 0.65 in decimal form).\n",
        "Z is the critical value corresponding to the desired confidence level. For a 95% confidence level,\n",
        "Z≈1.96 (you can use a standard normal distribution table or calculator).\n",
        "n is the sample size (500).\n",
        "Now, let's calculate the confidence interval:Confidence Interval=0.65±196⋅\n",
        "sqrt 0.65⋅(1−0.65)/500\n",
        "\n",
        "Let's calculate the values:\n",
        "\n",
        "Confidence Interval=0.65±1.96⋅ sqrt (0.65⋅0.35/500)\n",
        "\n",
        "Now, calculate the upper and lower bounds of the confidence interval:\n",
        "\n",
        "Lower Bound,Upper Bound=(0.608, 0.692)\n",
        "Interpretation:\n",
        "The 95% confidence interval for the true proportion of people who are satisfied with their job is approximately (0.608, 0.692). This means that we are 95% confident that the true proportion of satisfied individuals in the population falls within this range."
      ],
      "metadata": {
        "id": "4l-DLDv2_BX-"
      }
    },
    {
      "cell_type": "markdown",
      "source": [
        "Based on the given data and using a two-sample t-test with a significance level of 0.01, the following steps were taken:\n",
        "\n",
        "Hypotheses:\n",
        "\n",
        "Null Hypothesis (H0): There is no significant difference in student performance between the two teaching methods.\n",
        "Alternative Hypothesis (H1): There is a significant difference in student performance between the two teaching methods.\n",
        "Significance Level: The significance level (α) is 0.01.\n",
        "\n",
        "Test Used: A two-sample t-test assuming unequal variances (Welch's t-test) was used.\n",
        "\n",
        "Test Statistic: The test statistic (t) was calculated using the provided sample means, sample standard deviations, and sample sizes.\n",
        "\n",
        "Critical Values: Critical values for a two-tailed test at α=0.01 were determined using statistical software.\n",
        "\n",
        "Decision: Based on the calculated test statistic and critical values, a decision was made to either reject or fail to reject the null hypothesis.\n",
        "\n",
        "Conclusion: The conclusion was drawn regarding whether there is a significant difference in student performance between the two teaching methods.\n",
        "\n",
        "To provide a final answer, I would need to know the sample sizes (n1 and n2)to complete the calculations and make a decision about whether to reject the null hypothesis or not."
      ],
      "metadata": {
        "id": "omuFKqjaCxrH"
      }
    },
    {
      "cell_type": "markdown",
      "source": [
        "The 90% confidence interval for the true population mean is approximately (63.07, 66.93)."
      ],
      "metadata": {
        "id": "lZF5vp0YEw5y"
      }
    },
    {
      "cell_type": "markdown",
      "source": [
        "To test if caffeine has a significant effect on reaction time at a 90% confidence level:\n",
        "\n",
        "Null Hypothesis (H0): Caffeine has no effect on reaction time.\n",
        "Alternative Hypothesis (H1): Caffeine has an effect on reaction time (two-tailed test).\n",
        "We'll use a two-sample t-test with the given data. Calculate the test statistic, compare it to the critical value or p-value, and make a conclusion.\n",
        "\n"
      ],
      "metadata": {
        "id": "6M2fgSpDE-kK"
      }
    }
  ]
}