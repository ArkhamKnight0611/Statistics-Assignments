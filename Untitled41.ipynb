{
  "nbformat": 4,
  "nbformat_minor": 0,
  "metadata": {
    "colab": {
      "provenance": []
    },
    "kernelspec": {
      "name": "python3",
      "display_name": "Python 3"
    },
    "language_info": {
      "name": "python"
    }
  },
  "cells": [
    {
      "cell_type": "markdown",
      "source": [
        "The Probability Density Function (PDF) is a fundamental concept in probability and statistics. It is a mathematical function that describes the likelihood of a continuous random variable taking on a particular value within a given range. In other words, the PDF provides the probability distribution of a continuous random variable."
      ],
      "metadata": {
        "id": "0fONBHgptgGb"
      }
    },
    {
      "cell_type": "markdown",
      "source": [
        "The most common types of probability distributions:\n",
        "\n",
        "Discrete Probability Distributions:\n",
        "\n",
        "Bernoulli Distribution: Models a binary outcome, such as success/failure, where there is a fixed probability of success (p) and failure (1-p) for each trial.\n",
        "Binomial Distribution: Describes the number of successes (x) in a fixed number of independent Bernoulli trials (n) with the same probability of success (p) for each trial.\n",
        "Poisson Distribution: Models the number of events that occur within a fixed interval of time or space, assuming events are rare and random.\n",
        "Continuous Probability Distributions:\n",
        "\n",
        "Normal (Gaussian) Distribution: Represents a continuous random variable that is symmetrically distributed around a mean (μ) with a fixed standard deviation (σ). It is widely used in statistics due to its many applications.\n",
        "Uniform Distribution: Describes a random variable with a constant probability of taking any value within a specified range, resulting in a rectangular-shaped distribution.\n",
        "Exponential Distribution: Models the time between events in a Poisson process, where events occur at a constant average rate. It is often used in reliability and queuing theory.\n",
        "Gamma Distribution: Extends the exponential distribution to describe the time until a fixed number of events occur. It has applications in various fields, including physics and engineering.\n",
        "Beta Distribution: Represents a continuous random variable constrained within a specific interval (0 to 1). It is commonly used for modeling proportions or probabilities.\n",
        "Cauchy Distribution: Has heavy tails and no finite mean or variance. It is often used in physics and engineering, particularly for modeling resonance phenomena.\n",
        "Multinomial Distribution: Generalizes the binomial distribution to more than two categories or outcomes. It describes the probabilities of observing different outcomes in multiple independent trials.\n",
        "\n",
        "Hypergeometric Distribution: Models the probability of drawing a specific number of successes from a finite population without replacement. It is used in sampling theory.\n",
        "\n",
        "Geometric Distribution: Describes the number of Bernoulli trials needed to achieve the first success. It is often used in probability theory and statistics.\n",
        "\n",
        "Logistic Distribution: Represents a continuous random variable with an S-shaped curve. It is used in regression analysis and modeling growth processes.\n",
        "\n",
        "Weibull Distribution: Characterizes the distribution of time-to-failure for reliability analysis. It has different shapes depending on the value of its shape parameter.\n",
        "\n",
        "Chi-Square (χ²) Distribution: Arises in statistical hypothesis testing, particularly in tests of independence and goodness-of-fit tests.\n",
        "\n",
        "Student's t-Distribution: Used in hypothesis testing when the sample size is small and the population standard deviation is unknown. It converges to the normal distribution as the sample size increases."
      ],
      "metadata": {
        "id": "zMLSES5_txFJ"
      }
    },
    {
      "cell_type": "code",
      "execution_count": 1,
      "metadata": {
        "id": "uEQtDgsqlyV5"
      },
      "outputs": [],
      "source": [
        "import numpy as np\n",
        "import scipy.stats as stats"
      ]
    },
    {
      "cell_type": "code",
      "source": [
        "data_start = -5\n",
        "data_end = 5\n",
        "data_points = 11\n",
        "data = np.linspace(data_start, data_end, data_points)\n",
        "\n",
        "mean = np.mean(data)\n",
        "std = np.std(data)\n",
        "\n",
        "probability_pdf = stats.norm.pdf(3, loc=mean, scale=std)\n",
        "print(probability_pdf)"
      ],
      "metadata": {
        "colab": {
          "base_uri": "https://localhost:8080/"
        },
        "id": "UZ2Fii89uhmF",
        "outputId": "dfa40e74-0181-4574-bdb8-14f636eca85b"
      },
      "execution_count": 19,
      "outputs": [
        {
          "output_type": "stream",
          "name": "stdout",
          "text": [
            "0.0804410163156249\n"
          ]
        }
      ]
    },
    {
      "cell_type": "markdown",
      "source": [
        "The binomial distribution is a discrete probability distribution that is characterized by the following properties:\n",
        "\n",
        "Fixed Number of Trials (n): The binomial distribution describes a series of n independent and identical trials, where each trial can result in one of two outcomes: success or failure.\n",
        "\n",
        "Two Possible Outcomes: Each trial has two possible outcomes, typically denoted as \"success\" and \"failure.\" These outcomes are mutually exclusive and exhaustive, meaning that one of the two outcomes must occur on each trial.\n",
        "\n",
        "Constant Probability of Success (p): The probability of success (denoted as p) remains constant from trial to trial. In other words, the probability of success does not change as you repeat the trials.\n",
        "\n",
        "Independence: The trials are independent, meaning that the outcome of one trial does not affect the outcome of any other trial.\n",
        "\n",
        "Discrete Random Variable (X): The binomial random variable X represents the number of successes in the n trials. X can take on discrete values from 0 to n, inclusive.\n",
        "\n",
        "Probability Mass Function (PMF): The probability mass function of the binomial distribution gives the probability of getting exactly k successes in n trials and is given by the formula:\n",
        "\n",
        "f(x)=P[X=x]=(nx)px(1−p)n−x.\n",
        "\n",
        "Examples of events and scenarios where the binomial distribution can be applied:\n",
        "\n",
        "Coin Flips: A classic example is modeling the number of heads obtained when flipping a fair coin (where \"heads\" is considered a success) multiple times. Each flip is an independent trial, and the probability of getting heads remains constant at 0.5.\n",
        "\n",
        "Medical Testing: Consider a diagnostic test for a specific disease where a patient is either diagnosed as having the disease (success) or not having it (failure). The binomial distribution can be used to model the number of patients who test positive for the disease out of a group of tested individuals, assuming the test has a known sensitivity (probability of a true positive) and specificity (probability of a true negative).\n",
        "\n",
        "In both of these examples, the binomial distribution is applicable because there are a fixed number of trials (coin flips or medical tests), two possible outcomes (success or failure), a constant probability of success (probability of getting heads or the test's sensitivity), and independence between trials.\n",
        "\n",
        "\n",
        "\n",
        "\n",
        "\n"
      ],
      "metadata": {
        "id": "nh31eRkYzEk_"
      }
    },
    {
      "cell_type": "code",
      "source": [
        "import matplotlib.pyplot as plt\n",
        "n=1000\n",
        "p=0.4\n",
        "random_sample = np.random.binomial(n, p, size=n)\n",
        "plt.xlabel('Number of Successes')\n",
        "plt.ylabel('Frequency')\n",
        "plt.hist(random_sample)"
      ],
      "metadata": {
        "colab": {
          "base_uri": "https://localhost:8080/",
          "height": 518
        },
        "id": "HTDopKtjvuBt",
        "outputId": "3d180f79-c05b-4920-cacd-224a283f9446"
      },
      "execution_count": 27,
      "outputs": [
        {
          "output_type": "execute_result",
          "data": {
            "text/plain": [
              "(array([  3.,  28.,  78., 180., 258., 259., 139.,  40.,  13.,   2.]),\n",
              " array([347. , 358.2, 369.4, 380.6, 391.8, 403. , 414.2, 425.4, 436.6,\n",
              "        447.8, 459. ]),\n",
              " <BarContainer object of 10 artists>)"
            ]
          },
          "metadata": {},
          "execution_count": 27
        },
        {
          "output_type": "display_data",
          "data": {
            "text/plain": [
              "<Figure size 640x480 with 1 Axes>"
            ],
            "image/png": "[encoded data removed]"
          },
          "metadata": {}
        }
      ]
    },
    {
      "cell_type": "code",
      "source": [
        "def calculate_poisson_cdf(k, mean):\n",
        "    cdf_value = stats.poisson.cdf(k, mu=mean)\n",
        "    return cdf_value"
      ],
      "metadata": {
        "colab": {
          "base_uri": "https://localhost:8080/"
        },
        "id": "WR_6dYBV4qLc",
        "outputId": "a6ce0b41-8930-41e0-dafb-cac8617ab66b"
      },
      "execution_count": 28,
      "outputs": [
        {
          "output_type": "stream",
          "name": "stdout",
          "text": [
            "CDF at k = 2: 0.32084719886213414\n"
          ]
        }
      ]
    },
    {
      "cell_type": "code",
      "source": [
        "mean = 3.5\n",
        "k_point = 2\n",
        "cdf_at_k = calculate_poisson_cdf(k_point, mean)\n",
        "print(f\"CDF at k = {k_point}: {cdf_at_k}\")"
      ],
      "metadata": {
        "colab": {
          "base_uri": "https://localhost:8080/"
        },
        "id": "zOhzuQyo53a2",
        "outputId": "3e5c4bad-b4e4-4686-f934-4225d4b4a1c5"
      },
      "execution_count": 29,
      "outputs": [
        {
          "output_type": "stream",
          "name": "stdout",
          "text": [
            "CDF at k = 2: 0.32084719886213414\n"
          ]
        }
      ]
    },
    {
      "cell_type": "markdown",
      "source": [
        "The Binomial distribution and the Poisson distribution are both probability distributions used in statistics to model the number of events or occurrences within a specified interval or over a fixed number of trials. However, they are distinct in several ways, including their assumptions, characteristics, and use cases. Here are the key differences between the two distributions:\n",
        "\n",
        "Nature of Events:\n",
        "\n",
        "Binomial Distribution: The binomial distribution is used to model the number of successes (usually denoted as \"k\") in a fixed number of independent and identical trials (usually denoted as \"n\"), where each trial can result in one of two outcomes: success or failure. The trials are discrete and can be thought of as \"yes\" or \"no\" events.\n",
        "Poisson Distribution: The Poisson distribution models the number of events (e.g., arrivals, occurrences) that happen within a fixed interval of time or space. These events are typically rare and occur randomly. The events are also considered to be independent.\n",
        "Parameters:\n",
        "\n",
        "Binomial Distribution: The binomial distribution is characterized by two parameters: \"n\" (number of trials) and \"p\" (probability of success on each trial).\n",
        "Poisson Distribution: The Poisson distribution is characterized by a single parameter, \"λ\" (lambda), which represents the average rate of events in the specified interval.\n",
        "Assumptions:\n",
        "\n",
        "Binomial Distribution: It assumes that the trials are independent, the probability of success \"p\" remains constant across all trials, and there are only two possible outcomes (success and failure) for each trial.\n",
        "Poisson Distribution: It assumes that events occur randomly and independently within the specified interval, and the average rate of events per interval \"λ\" remains constant.\n",
        "Outcome Range:\n",
        "\n",
        "Binomial Distribution: The outcome range for the binomial distribution is discrete and finite, ranging from 0 to \"n\" (inclusive) since it models the number of successes in a fixed number of trials.\n",
        "Poisson Distribution: The outcome range for the Poisson distribution is discrete and infinite, ranging from 0 to positive infinity, as it models the number of events that can occur in a fixed interval.\n",
        "Probability Mass Function (PMF):\n",
        "\n",
        "Binomial Distribution: The PMF of the binomial distribution calculates the probability of obtaining exactly \"k\" successes in \"n\" trials and is given by the binomial coefficient.\n",
        "Poisson Distribution: The PMF of the Poisson distribution calculates the probability of observing exactly \"k\" events in the interval and is given by the Poisson formula.\n",
        "Use Cases:\n",
        "\n",
        "Binomial Distribution: It is often used for situations involving a fixed number of trials with binary outcomes, such as coin flips, the number of defective items in a sample, or the number of successful product launches in a fixed number of attempts.\n",
        "Poisson Distribution: It is used to model rare and random events, such as the number of customer arrivals at a store in an hour, the number of car accidents at an intersection in a day, or the number of emails received per hour."
      ],
      "metadata": {
        "id": "WKyvhQv67QZD"
      }
    },
    {
      "cell_type": "code",
      "source": [
        "mean=5\n",
        "size=1000\n",
        "random_sample=np.random.poisson(mean,size)"
      ],
      "metadata": {
        "id": "whnZFxVR69AC"
      },
      "execution_count": 30,
      "outputs": []
    },
    {
      "cell_type": "code",
      "source": [
        "sample_mean=np.mean(random_sample)\n",
        "sample_variance=np.var(random_sample)\n",
        "sample_mean,sample_variance"
      ],
      "metadata": {
        "colab": {
          "base_uri": "https://localhost:8080/"
        },
        "id": "pKvVn3u18rHQ",
        "outputId": "161d235c-da78-4d31-c1d0-69f614c70205"
      },
      "execution_count": 32,
      "outputs": [
        {
          "output_type": "execute_result",
          "data": {
            "text/plain": [
              "(4.993, 4.956951)"
            ]
          },
          "metadata": {},
          "execution_count": 32
        }
      ]
    },
    {
      "cell_type": "markdown",
      "source": [
        "The relationship between the mean (average) and variance in both the Binomial distribution and the Poisson distribution is determined by the specific characteristics of each distribution. Here's how mean and variance are related in these two distributions:\n",
        "\n",
        "Binomial Distribution:\n",
        "In a Binomial distribution with parameters n (number of trials) and p (probability of success on each trial), the mean and variance are related as follows:\n",
        "\n",
        "Mean (μ): The mean of a Binomial distribution is given by μ = n * p. This represents the expected number of successes in n trials.\n",
        "\n",
        "Variance (σ²): The variance of a Binomial distribution is given by σ² = n * p * (1 - p). It measures the spread or dispersion of the number of successes.\n",
        "\n",
        "The relationship between mean and variance in the Binomial distribution shows that as the probability of success (p) approaches 0 or 1 (i.e., when the distribution becomes more skewed toward one outcome), the variance decreases, approaching zero. Conversely, when p is closer to 0.5 (i.e., when the distribution is more balanced between success and failure), the variance is higher.\n",
        "\n",
        "Poisson Distribution:\n",
        "In a Poisson distribution with a parameter λ (average rate of events in a fixed interval), the mean and variance are related as follows:\n",
        "\n",
        "Mean (μ): The mean of a Poisson distribution is given by μ = λ. This represents the average rate or average number of events in the interval.\n",
        "\n",
        "Variance (σ²): The variance of a Poisson distribution is also σ² = λ. This means that the variance is equal to the mean.\n",
        "\n",
        "The relationship between mean and variance in the Poisson distribution is unique because the variance is always equal to the mean. This property of the Poisson distribution indicates that the distribution is \"equidispersed,\" meaning that the events are spread out evenly around the mean."
      ],
      "metadata": {
        "id": "xukCR7kuJW1x"
      }
    },
    {
      "cell_type": "markdown",
      "source": [
        "In a normal distribution (also known as a Gaussian distribution), which is a symmetric probability distribution, the least frequent data points appear in the tails of the distribution, farthest away from the mean. Specifically:\n",
        "\n",
        "Least Frequent Data: The data points that are the least frequent, or have the lowest probability of occurrence, are located in the tails of the distribution.\n",
        "\n",
        "Tails of the Distribution: The tails of a normal distribution are the extreme ends of the curve, in both the left (negative) and right (positive) directions away from the mean.\n",
        "\n",
        "Central Peak: The highest frequency of data points, or the mode of the distribution, is at the mean (μ), which is the center of the distribution. This means that values close to the mean are the most common in a normal distribution.\n",
        "\n",
        "Symmetry: Normal distributions are symmetric, which means that the probability of observing a value at a certain distance to the left of the mean is equal to the probability of observing a value at the same distance to the right of the mean.\n",
        "\n",
        "Bell-Shaped Curve: The normal distribution is characterized by a bell-shaped curve, and as you move away from the mean in either direction (towards the tails), the probability of observing values decreases."
      ],
      "metadata": {
        "id": "DEjHCcT7Jghk"
      }
    }
  ]
}