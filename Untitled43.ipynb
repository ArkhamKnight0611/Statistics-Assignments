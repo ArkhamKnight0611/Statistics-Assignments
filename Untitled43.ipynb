{
  "nbformat": 4,
  "nbformat_minor": 0,
  "metadata": {
    "colab": {
      "provenance": []
    },
    "kernelspec": {
      "name": "python3",
      "display_name": "Python 3"
    },
    "language_info": {
      "name": "python"
    }
  },
  "cells": [
    {
      "cell_type": "markdown",
      "source": [
        "Estimation in statistics involves the process of using sample data to make educated guesses or estimates about population parameters. There are two main types of estimation in statistics: point estimation and interval estimation.\n",
        "\n",
        "Point Estimation:\n",
        "\n",
        "Point estimation involves estimating a population parameter with a single, specific value, often denoted as a \"point estimate.\" A point estimate is a single value that serves as the best guess or approximation of the true population parameter. Common point estimates include the sample mean (for estimating the population mean) and the sample proportion (for estimating the population proportion).\n",
        "\n",
        "Example: If you calculate the sample mean of a dataset and obtain a value of 45, this is a point estimate of the population mean.\n",
        "Interval Estimation:\n",
        "\n",
        "Interval estimation, also known as confidence interval estimation, provides a range or interval of values within which the population parameter is likely to fall. Instead of providing a single point estimate, interval estimation gives a range of values along with a level of confidence. This range is called a \"confidence interval.\" The level of confidence (e.g., 95% confidence) indicates the probability that the interval contains the true population parameter.\n",
        "\n",
        "Example: If you calculate a 95% confidence interval for the population mean and obtain the interval (42, 48), it means you are 95% confident that the true population mean falls within this interval.\n",
        "The key differences between point estimation and interval estimation are:\n",
        "\n",
        "Point Estimation provides a single value as an estimate of the population parameter. It is a specific, fixed guess.\n",
        "\n",
        "Interval Estimation provides a range of values within which the population parameter is likely to fall, along with a level of confidence. It acknowledges the uncertainty associated with the estimate.\n",
        "\n",
        "Interval estimation is often preferred in statistical analysis because it provides a more comprehensive view of the likely range of values for the population parameter and accounts for sampling variability. Point estimates are useful for providing a single estimate, but they don't convey the uncertainty inherent in estimating population parameters from finite sample data. Confidence intervals are commonly used in hypothesis testing and statistical inference to make more robust and informative conclusions about population characteristics."
      ],
      "metadata": {
        "id": "zVuGfk_rHBh4"
      }
    },
    {
      "cell_type": "code",
      "source": [
        "import numpy as np\n",
        "from scipy import stats"
      ],
      "metadata": {
        "id": "MQ0GODrBIeqH"
      },
      "execution_count": 4,
      "outputs": []
    },
    {
      "cell_type": "code",
      "source": [
        "def estimate_population_mean(sample_mean, sample_std_dev, sample_size):\n",
        "    return sample_mean\n",
        "\n",
        "# Example usage:\n",
        "sample_mean = 45.0\n",
        "sample_std_dev = 8.0\n",
        "sample_size = 100\n",
        "\n",
        "estimated_mean = estimate_population_mean(sample_mean, sample_std_dev, sample_size)\n",
        "print(f\"Estimated Population Mean: {estimated_mean}\")"
      ],
      "metadata": {
        "colab": {
          "base_uri": "https://localhost:8080/"
        },
        "id": "tKtYYB-OIm5s",
        "outputId": "cac8cecd-d5f7-40f5-b1fb-126474501bfd"
      },
      "execution_count": 3,
      "outputs": [
        {
          "output_type": "stream",
          "name": "stdout",
          "text": [
            "Estimated Population Mean: 45.0\n"
          ]
        }
      ]
    },
    {
      "cell_type": "markdown",
      "source": [
        "Hypothesis testing is a fundamental statistical method used to make inferences and draw conclusions about a population based on a sample of data. It involves the formal process of testing a statistical hypothesis or claim about a population parameter (such as the mean, proportion, variance, etc.) using sample data. Hypothesis testing is widely used in various fields, including science, business, healthcare, social sciences, and more.\n",
        "\n",
        "Here's how hypothesis testing works and why it is important:\n",
        "\n",
        "Steps in Hypothesis Testing:\n",
        "\n",
        "Formulate Hypotheses:\n",
        "\n",
        "Null Hypothesis (H0): This is the default hypothesis, often representing a statement of no effect or no difference. It's the hypothesis that you want to test against.\n",
        "Alternative Hypothesis (Ha or H1): This is the hypothesis you are trying to support or prove. It represents the claim or effect you are interested in.\n",
        "Collect Data: Obtain a sample of data from the population of interest.\n",
        "\n",
        "Choose a Significance Level (α): This represents the threshold for accepting or rejecting the null hypothesis. Common choices include 0.05 (5%) or 0.01 (1%).\n",
        "\n",
        "Perform Statistical Test: Calculate a test statistic based on the sample data and the chosen statistical test (e.g., t-test, chi-squared test, z-test).\n",
        "\n",
        "Determine P-Value: The p-value is a measure of the strength of evidence against the null hypothesis. It represents the probability of observing a result as extreme as, or more extreme than, the one obtained if the null hypothesis were true.\n",
        "\n",
        "Compare P-Value to α: If the p-value is less than or equal to the chosen significance level (α), you reject the null hypothesis in favor of the alternative hypothesis. If the p-value is greater than α, you fail to reject the null hypothesis.\n",
        "\n",
        "Importance of Hypothesis Testing:\n",
        "\n",
        "Inference: Hypothesis testing allows researchers and analysts to make inferences about population parameters based on sample data. It helps answer questions like whether a new drug is effective, whether a marketing campaign had an impact, or whether a process change improved productivity.\n",
        "\n",
        "Decision-Making: It provides a structured framework for making decisions in the presence of uncertainty. By setting a significance level, you can control the risk of making a Type I error (incorrectly rejecting a true null hypothesis) and a Type II error (failing to reject a false null hypothesis).\n",
        "\n",
        "Scientific Research: Hypothesis testing is essential in scientific research to test theories, validate hypotheses, and advance knowledge. It helps scientists draw conclusions from experiments and observations.\n",
        "\n",
        "Quality Control: In manufacturing and quality control, hypothesis testing is used to ensure that processes are operating within acceptable limits. Deviations from specifications can be detected and corrected.\n",
        "\n",
        "Policy and Business Decisions: Governments, businesses, and organizations use hypothesis testing to inform policy decisions, evaluate program effectiveness, and make data-driven choices.\n",
        "\n",
        "Statistical Significance: It helps determine whether observed differences or effects are statistically significant, meaning they are unlikely to have occurred by chance alone.\n",
        "\n",
        "Comparisons: Hypothesis testing enables comparisons between groups or conditions to assess differences or associations. For example, it's used to compare the means of two groups or to test whether variables are correlated."
      ],
      "metadata": {
        "id": "86rCYjLUKuOI"
      }
    },
    {
      "cell_type": "markdown",
      "source": [
        "To create a hypothesis test that states whether the average weight of male college students is greater than the average weight of female college students, you can formulate the null hypothesis (H0) and the alternative hypothesis (Ha) as follows:\n",
        "\n",
        "Null Hypothesis (H0): The average weight of male college students is equal to or less than the average weight of female college students.\n",
        "\n",
        "Alternative Hypothesis (Ha): The average weight of male college students is greater than the average weight of female college students.\n",
        "\n",
        "Mathematically, you can represent these hypotheses as:\n",
        "\n",
        "H0: μ_male ≤ μ_female\n",
        "Ha: μ_male > μ_female\n",
        "Where:\n",
        "\n",
        "μ_male represents the population mean weight of male college students.\n",
        "μ_female represents the population mean weight of female college students.\n",
        "In this hypothesis test, you would collect data on the weights of male and female college students, calculate the sample means (mean of x male and mean of x female), and perform a statistical test (e.g., t-test or z-test) to determine whether there is enough evidence to reject the null hypothesis in favor of the alternative hypothesis. The choice of test and the significance level (α) should be determined based on the specific research question and dataset."
      ],
      "metadata": {
        "id": "dvVL4_BwLJBx"
      }
    },
    {
      "cell_type": "code",
      "source": [
        "import numpy as np\n",
        "from scipy import stats\n",
        "\n",
        "# Sample data for two populations (replace with your data)\n",
        "sample1 = np.array([68, 72, 65, 71, 73, 70, 69, 74, 67, 68])\n",
        "sample2 = np.array([63, 64, 60, 62, 65, 61, 66, 63, 64, 62])\n",
        "\n",
        "# Set the significance level (alpha)\n",
        "alpha = 0.05\n",
        "\n",
        "# Perform a two-sample t-test assuming unequal variances (independent samples)\n",
        "t_stat, p_value = stats.ttest_ind(sample1, sample2, equal_var=False)\n",
        "\n",
        "# Print the results\n",
        "print(\"Sample 1 Mean:\", np.mean(sample1))\n",
        "print(\"Sample 2 Mean:\", np.mean(sample2))\n",
        "print(\"t-statistic:\", t_stat)\n",
        "print(\"p-value:\", p_value)\n",
        "\n",
        "# Compare p-value to alpha to make a decision\n",
        "if p_value < alpha:\n",
        "    print(\"Reject the null hypothesis: There is a significant difference in means.\")\n",
        "else:\n",
        "    print(\"Fail to reject the null hypothesis: There is no significant difference in means.\")\n"
      ],
      "metadata": {
        "colab": {
          "base_uri": "https://localhost:8080/"
        },
        "id": "n3vfyL4oIqzE",
        "outputId": "e4d8316f-146c-4d2a-f6ea-ae5020ed2ebd"
      },
      "execution_count": 5,
      "outputs": [
        {
          "output_type": "stream",
          "name": "stdout",
          "text": [
            "Sample 1 Mean: 69.7\n",
            "Sample 2 Mean: 63.0\n",
            "t-statistic: 6.29047131644028\n",
            "p-value: 1.2888970483183395e-05\n",
            "Reject the null hypothesis: There is a significant difference in means.\n"
          ]
        }
      ]
    },
    {
      "cell_type": "markdown",
      "source": [
        "Null Hypothesis (H0) and Alternative Hypothesis (Ha) are fundamental components of hypothesis testing in statistics. They represent competing claims or statements about a population parameter that you want to test using data. Here are definitions and examples of null and alternative hypotheses:\n",
        "\n",
        "Null Hypothesis (H0):\n",
        "\n",
        "The null hypothesis is a statement that represents a default or status quo assumption. It typically suggests that there is no effect, no difference, or no relationship in the population.\n",
        "In hypothesis testing, you start with the null hypothesis and seek to test whether there is enough evidence in the data to reject it.\n",
        "The null hypothesis is denoted as H0.\n",
        "Examples of Null Hypotheses:\n",
        "\n",
        "Population Mean: H0: The population mean weight of a product is 50 grams.\n",
        "\n",
        "This null hypothesis suggests that the mean weight of the product is 50 grams, and you want to test if there is evidence that it differs from this value.\n",
        "No Effect: H0: The new drug has no effect on blood pressure.\n",
        "\n",
        "This null hypothesis suggests that the drug has no impact on blood pressure, and you want to investigate if there is evidence of an effect.\n",
        "No Difference: H0: There is no difference in exam scores between Group A and Group B.\n",
        "\n",
        "This null hypothesis suggests that the two groups have the same average exam scores, and you want to determine if there is a significant difference.\n",
        "Alternative Hypothesis (Ha):\n",
        "\n",
        "The alternative hypothesis is a statement that contradicts the null hypothesis. It represents what you are trying to show or prove with your data.\n",
        "It typically asserts the presence of an effect, a difference, or a relationship in the population.\n",
        "The alternative hypothesis is denoted as Ha.\n",
        "Examples of Alternative Hypotheses:\n",
        "\n",
        "Population Mean: Ha: The population mean weight of a product is not 50 grams.\n",
        "\n",
        "This alternative hypothesis suggests that the mean weight of the product is different from 50 grams, and you want to find evidence to support this claim.\n",
        "Positive Effect: Ha: The new drug reduces blood pressure.\n",
        "\n",
        "This alternative hypothesis suggests that the drug has a positive effect on blood pressure, and you want to demonstrate this effect.\n",
        "Difference: Ha: There is a difference in exam scores between Group A and Group B.\n",
        "\n",
        "This alternative hypothesis suggests that the two groups have different average exam scores, and you want to find evidence of this difference.\n",
        "In hypothesis testing, the goal is to collect and analyze data to determine whether the evidence supports the null hypothesis (no effect, no difference) or the alternative hypothesis (presence of an effect, difference). The decision is based on statistical tests and the calculation of p-values, with the aim of making informed conclusions about the population parameter being studied.\n",
        "\n",
        "\n",
        "\n",
        "\n"
      ],
      "metadata": {
        "id": "3T6hbMDUVRsL"
      }
    },
    {
      "cell_type": "markdown",
      "source": [
        "Hypothesis testing is a structured process used in statistics to make decisions and draw conclusions about population parameters based on sample data. The steps involved in hypothesis testing typically include the following:\n",
        "\n",
        "Formulate the Null Hypothesis (H0):\n",
        "\n",
        "Define the null hypothesis, which represents the default or status quo assumption about the population parameter. It often suggests no effect, no difference, or no relationship.\n",
        "Express the null hypothesis in terms of population parameters and use appropriate symbols.\n",
        "Formulate the Alternative Hypothesis (Ha or H1):\n",
        "\n",
        "Define the alternative hypothesis, which contradicts the null hypothesis and represents what you are trying to show or prove.\n",
        "Express the alternative hypothesis in terms of population parameters and use appropriate symbols.\n",
        "Choose the Significance Level (α):\n",
        "\n",
        "Set the desired level of significance (α), which represents the probability of making a Type I error (incorrectly rejecting a true null hypothesis). Common values include 0.05 (5%) and 0.01 (1%).\n",
        "Collect Data:\n",
        "\n",
        "Collect a representative sample of data from the population of interest. The sample should be chosen using appropriate sampling methods.\n",
        "Select the Statistical Test:\n",
        "\n",
        "Choose a statistical test that is suitable for the data type and the research question being investigated. Common tests include t-tests, chi-squared tests, ANOVA, correlation tests, and regression analysis.\n",
        "Calculate the Test Statistic:\n",
        "\n",
        "Use the sample data to calculate the test statistic, which quantifies the difference, effect, or relationship between the sample and population parameters. The formula for the test statistic depends on the chosen test.\n",
        "Determine the Probability (p-value):\n",
        "\n",
        "Calculate the probability (p-value) associated with the test statistic. The p-value represents the likelihood of observing a result as extreme as, or more extreme than, the one obtained if the null hypothesis were true.\n",
        "Make a Decision:\n",
        "\n",
        "Compare the p-value to the significance level (α) to make a decision:\n",
        "If p-value ≤ α, reject the null hypothesis (evidence supports the alternative hypothesis).\n",
        "If p-value > α, fail to reject the null hypothesis (insufficient evidence to support the alternative hypothesis).\n",
        "Draw Conclusions:\n",
        "\n",
        "Based on the decision made in the previous step, draw conclusions about the population parameter.\n",
        "If the null hypothesis is rejected, conclude that there is evidence to support the alternative hypothesis.\n",
        "If the null hypothesis is not rejected, conclude that there is not enough evidence to support the alternative hypothesis.\n",
        "Report Results:\n",
        "\n",
        "Present the findings of the hypothesis test, including the test statistic, p-value, and the conclusion.\n",
        "Provide context and interpretations relevant to the research question.\n",
        "Consider Limitations:\n",
        "\n",
        "Acknowledge any limitations or assumptions associated with the hypothesis test and the data.\n",
        "Repeat if Necessary:\n",
        "\n",
        "If the results are inconclusive or if additional questions arise, consider conducting further hypothesis tests or analyses.\n",
        "These steps provide a systematic and structured approach to hypothesis testing, helping researchers and analysts make informed decisions and draw valid conclusions based on data."
      ],
      "metadata": {
        "id": "KO0XIJlhVb-C"
      }
    },
    {
      "cell_type": "markdown",
      "source": [
        "P-value, short for \"probability value,\" is a crucial concept in hypothesis testing within statistics. It is a numerical measure that quantifies the strength of evidence against the null hypothesis (H0) based on sample data. The p-value indicates the probability of observing a result as extreme as, or more extreme than, the one obtained if the null hypothesis were true.\n",
        "\n",
        "Here's an explanation of the significance of p-values in hypothesis testing:\n",
        "\n",
        "Quantifying Evidence: The p-value provides a quantitative measure of how consistent the sample data are with the null hypothesis. It tells you how likely it is to obtain the observed results if the null hypothesis were correct.\n",
        "\n",
        "Decision Rule: In hypothesis testing, you typically set a significance level (α), which represents the threshold for statistical significance. Commonly used significance levels include 0.05 (5%) or 0.01 (1%). The p-value is compared to this significance level to make a decision:\n",
        "\n",
        "If p-value ≤ α: You reject the null hypothesis. This indicates that the data provide strong evidence against the null hypothesis, supporting the alternative hypothesis.\n",
        "If p-value > α: You fail to reject the null hypothesis. This suggests that the data do not provide sufficient evidence to reject the null hypothesis.\n",
        "Interpreting Results: A small p-value (typically less than α) suggests that the observed results are unlikely to have occurred by random chance alone. It implies that there is strong evidence against the null hypothesis, supporting the alternative hypothesis. Researchers often use terms like \"statistically significant\" to describe such results.\n",
        "\n",
        "Non-Parametric Significance: P-values are particularly valuable because they allow for a standardized way of assessing significance across various statistical tests and data types. Whether you are conducting a t-test, chi-squared test, ANOVA, or other tests, you can use p-values to determine whether the results are statistically significant.\n",
        "\n",
        "Continuous Spectrum: P-values are continuous values between 0 and 1. They can help quantify the strength of evidence even in cases where results are not black and white. For example, a p-value of 0.03 may be considered strong evidence against the null hypothesis, while a p-value of 0.07 may be considered borderline.\n",
        "\n",
        "Cautionary Note: While p-values are valuable, they should not be the sole basis for making scientific or practical decisions. It's essential to consider other factors, such as the context of the research, the effect size, the sample size, and the quality of the data. Additionally, p-values do not provide information about the magnitude or practical significance of an effect."
      ],
      "metadata": {
        "id": "9FA7tyaAVrJA"
      }
    },
    {
      "cell_type": "code",
      "source": [
        "import numpy as np\n",
        "import matplotlib.pyplot as plt\n",
        "import scipy.stats as stats\n",
        "\n",
        "# Degrees of freedom\n",
        "df = 10\n",
        "\n",
        "# Generate x values for the plot\n",
        "x = np.linspace(-4, 4, 400)  # Adjust the range based on your preference\n",
        "\n",
        "# Calculate the PDF values for the t-distribution\n",
        "pdf_values = stats.t.pdf(x, df)\n",
        "\n",
        "# Create a plot\n",
        "plt.figure(figsize=(8, 6))\n",
        "plt.plot(x, pdf_values, label=f't-distribution (df={df})', color='blue')\n",
        "plt.title(f'Student\\'s t-Distribution (df={df})')\n",
        "plt.xlabel('x')\n",
        "plt.ylabel('PDF')\n",
        "plt.legend()\n",
        "plt.grid(True)\n",
        "plt.show()\n"
      ],
      "metadata": {
        "colab": {
          "base_uri": "https://localhost:8080/",
          "height": 564
        },
        "id": "jsPz1_c-OOV-",
        "outputId": "85245a20-c78e-4892-9621-ed3e118b5a24"
      },
      "execution_count": 6,
      "outputs": [
        {
          "output_type": "display_data",
          "data": {
            "text/plain": [
              "<Figure size 800x600 with 1 Axes>"
            ],
            "image/png": "[encoded data removed]"
          },
          "metadata": {}
        }
      ]
    },
    {
      "cell_type": "markdown",
      "source": [
        "Student's t-distribution, often simply referred to as the t-distribution, is a probability distribution that plays a crucial role in statistical inference, especially when dealing with small sample sizes. It is used in various statistical tests and confidence interval calculations. Here's an overview of the t-distribution and when to use it:\n",
        "\n",
        "Characteristics of the t-Distribution:\n",
        "\n",
        "Shape: The t-distribution has a shape similar to the standard normal distribution (bell-shaped or approximately symmetric), but with heavier tails. This means that the t-distribution has more probability mass in its tails compared to the normal distribution.\n",
        "\n",
        "Parameter: The shape of the t-distribution is determined by a single parameter called the degrees of freedom (df). The degrees of freedom dictate how \"fat\" or \"thin\" the tails of the distribution are. As the degrees of freedom increase, the t-distribution approaches the normal distribution.\n",
        "\n",
        "Center: The t-distribution is centered at zero (like the standard normal distribution).\n",
        "\n",
        "When to Use the t-Distribution:\n",
        "\n",
        "The t-distribution is particularly useful in the following situations:\n",
        "\n",
        "Small Sample Sizes: When dealing with small sample sizes (typically n < 30), the t-distribution is more appropriate than the normal distribution for making inferences about population parameters. This is because the t-distribution accounts for the increased variability that occurs in small samples.\n",
        "\n",
        "Unknown Population Variance: When you don't know the population variance (σ) and need to estimate it from the sample, the t-distribution is used. In this case, you use the sample standard deviation (s) in place of σ when calculating the test statistic.\n",
        "\n",
        "Hypothesis Testing: When performing hypothesis tests for population means (such as one-sample t-test, two-sample t-test, or paired t-test), the t-distribution is used to evaluate whether the sample data provide enough evidence to reject the null hypothesis.\n",
        "\n",
        "Confidence Intervals: When constructing confidence intervals for population means, especially with small sample sizes, the t-distribution is used to determine the critical values for constructing the interval.\n",
        "\n",
        "Quality Control and Process Improvement: In quality control and process improvement, the t-distribution is used to make inferences about the mean of a population when dealing with limited sample sizes."
      ],
      "metadata": {
        "id": "euNs9oDl1Mkx"
      }
    },
    {
      "cell_type": "markdown",
      "source": [
        "The t-statistic is a numerical measure used in hypothesis testing to assess the evidence provided by sample data regarding a population parameter, particularly the population mean. It quantifies the difference between a sample statistic (usually the sample mean) and a hypothesized population parameter (usually the population mean under the null hypothesis) relative to the variability of the sample.\n",
        "\n",
        "The formula for the t-statistic, when comparing a sample mean (x̄) to a hypothesized population mean (μ) and using the sample standard deviation (s), is given by:\n",
        "\n",
        "t-statistic formula:\n",
        "\n",
        "t = (X‾ - μ0) / (s / √n)\n",
        "\n",
        "The t-statistic measures how many standard errors the sample mean\n",
        "is away from the hypothesized population mean (μ). A larger absolute t-statistic suggests a greater difference between the sample mean and the hypothesized mean.\n",
        "\n",
        "In hypothesis testing, the t-statistic is used to calculate the p-value, which, when compared to the chosen significance level (α), helps make decisions about whether to reject the null hypothesis. A larger t-statistic (farther from zero) typically leads to a smaller p-value and greater evidence against the null hypothesis.\n",
        "\n",
        "It's important to note that the degrees of freedom (df) for the t-distribution are also taken into account when determining critical values and p-values based on the t-statistic. The degrees of freedom depend on the sample size and play a role in shaping the t-distribution's tails."
      ],
      "metadata": {
        "id": "EnELZ2Fp1Yhx"
      }
    },
    {
      "cell_type": "markdown",
      "source": [
        "To estimate the population mean revenue with a 95% confidence interval, you can use the t-distribution since you have a sample and you want to construct an interval estimate. Here's how you can calculate it:\n",
        "\n",
        "Identify the parameters:\n",
        "\n",
        "Sample mean : $500\n",
        "Sample standard deviation (s): $50\n",
        "Sample size (n): 50\n",
        "Confidence level (1 - α): 95% (α = 0.05)\n",
        "Determine the degrees of freedom (df):\n",
        "\n",
        "Since you have a sample, you will use\n",
        "n−1 degrees of freedom.\n",
        "df = 50 - 1 = 49\n",
        "*Find the critical value (t)**:\n",
        "\n",
        "You'll need the critical t-value from the t-distribution for a 95% confidence interval with 49 degrees of freedom.\n",
        "You can find this value using a t-table or a calculator. For a 95% confidence interval, the critical t-value is approximately 2.0096 (you can round it to 2.01 for practical purposes).\n",
        "Calculate the margin of error (MOE):\n",
        "The margin of error is given by: MOE=t ∗s/sqrt.n​\n",
        "Plugging in the values: MOE = 2.01*50/sqrt.50\n",
        "Calculate the confidence interval:\n",
        "\n",
        "The confidence interval is given by:\n",
        "Confidence Interval=( x−MOE, x+MOE)\n",
        "Now, let's calculate the confidence interval:\n",
        "Confidence Interval=(500−2.01⋅50/sqrt.50​,500+2.01⋅50/sqrt.50)\n",
        "Simplify:\n",
        "Confidence Interval≈(483.99,516.01)\n",
        "\n",
        "So, with 95% confidence, you can estimate that the population mean daily revenue for the coffee shop falls within the range of approximately $484 to $516."
      ],
      "metadata": {
        "id": "r3d8b2ov2sDs"
      }
    },
    {
      "cell_type": "markdown",
      "source": [
        "To test the hypothesis that the new drug decreases blood pressure by 10 mmHg with a significance level (α) of 0.05, you can perform a one-sample t-test. Here's how you can do it:\n",
        "\n",
        "Identify the parameters:\n",
        "\n",
        "Sample mean: 8 mmHg\n",
        "Hypothesized population mean : 10 mmHg (the hypothesized decrease)\n",
        "Sample standard deviation (s): 3 mmHg\n",
        "Sample size (n): 100\n",
        "Significance level (α): 0.05\n",
        "Set up the null and alternative hypotheses:\n",
        "\n",
        "Null Hypothesis (H0): The new drug does not decrease blood pressure by 10 mmHg\n",
        "Alternative Hypothesis (Ha): The new drug decreases blood pressure by 10 mmHg\n",
        "Calculate the t-statistic:\n",
        "Calculate this value.\n",
        "Determine the degrees of freedom (df):\n",
        "Since you have a sample, you will use\n",
        "n−1 degrees of freedom.\n",
        "df = 100 - 1 = 99\n",
        "Find the critical t-value:\n",
        "For a one-tailed test at a 5% significance level and 99 degrees of freedom, you can find the critical t-value using a t-table or calculator. In this case, you are interested in the lower tail of the t-distribution.\n",
        "The critical t-value (t*) is approximately -1.6602 (rounded to -1.66 for practical purposes).\n",
        "Calculate the p-value:\n",
        "\n",
        "Use the t-statistic and degrees of freedom to calculate the p-value, which represents the probability of obtaining a t-statistic as extreme as the one observed (or more extreme) under the null hypothesis.\n",
        "Make a decision:\n",
        "\n",
        "Compare the calculated p-value to the significance level (α).\n",
        "If p-value < α, reject the null hypothesis.\n",
        "If p-value ≥ α, fail to reject the null hypothesis.\n",
        "Now, calculate the t-statistic and p-value:\n",
        "=−6.67\n",
        "\n",
        "Now, using the critical t-value, we can calculate the p-value associated with the t-statistic. In this case, since we're testing if the drug decreases blood pressure (less than 10 mmHg), we'll look for the p-value in the left tail of the t-distribution.\n",
        "\n",
        "Using a t-table or calculator, you can find the p-value associated with a t-statistic of -6.67 and 99 degrees of freedom. The p-value will be extremely small (close to 0).\n",
        "\n",
        "Finally, compare the p-value to the significance level (α). If the p-value is less than 0.05, you would reject the null hypothesis and conclude that there is sufficient evidence to suggest that the new drug decreases blood pressure by more than 10 mmHg."
      ],
      "metadata": {
        "id": "1YikedZE4hdK"
      }
    },
    {
      "cell_type": "markdown",
      "source": [
        "Parameters:\n",
        "\n",
        "Population mean : 5 pounds\n",
        "Sample mean : 4.8 pounds\n",
        "Sample standard deviation (s): Estimated as 0.5 pounds\n",
        "Sample size (n): 25\n",
        "Significance level (α): 0.01\n",
        "Hypotheses:\n",
        "\n",
        "Null Hypothesis (H0): =5\n",
        "μ=5 (True mean weight is 5 pounds).\n",
        "Alternative Hypothesis (Ha): μ<5 (True mean weight is less than 5 pounds).\n",
        "Calculate t-statistic:t= =−4\n",
        "Degrees of Freedom (df): 24\n",
        "\n",
        "Critical t-value (left-tailed, 1% level, df=24): -2.49\n",
        "\n",
        "Calculate p-value: Extremely small (close to 0).\n",
        "\n",
        "Decision: Since p-value < α, reject the null hypothesis. Conclude that there's enough evidence to suggest the true mean weight of the products is less than 5 pounds."
      ],
      "metadata": {
        "id": "2eYIgQ2S5Vdz"
      }
    },
    {
      "cell_type": "markdown",
      "source": [
        "To test the hypothesis that the population means for the two groups are equal, you can perform a two-sample t-test for independent samples with a significance level (α) of 0.01. Here's how you can do it:\n",
        "\n",
        "Group 1:\n",
        "\n",
        "Sample size (n1): 30\n",
        "Sample mean : 80\n",
        "Sample standard deviation : 10\n",
        "Group 2:\n",
        "\n",
        "Sample size (n2): 40\n",
        "Sample mean: 75\n",
        "Sample standard deviation : 8\n",
        "Significance level (α): 0.01\n",
        "\n",
        "Hypotheses:\n",
        "\n",
        "Null Hypothesis (H0):\n",
        "  (The population means of the two groups are equal).\n",
        "Alternative Hypothesis (Ha):\n",
        "  (The population means of the two groups are not equal).\n",
        "Calculate the t-statistic:\n",
        "\n",
        "Use the formula for the two-sample t-test:\n",
        "\n",
        "Degrees of Freedom (df):\n",
        "\n",
        "df = n1+n2−2 (for a two-sample t-test)\n",
        "\n",
        "Critical t-value:\n",
        " (x1 – x2)  /  sp(√1/n1 + 1/n2)\n",
        "\n",
        "where x1 and x2 are the sample means, n1 and n2 are the sample sizes, and where sp(standard pool error) is calculated as:\n",
        "\n",
        "sp = √ (n1-1)s12 +  (n2-1)s22 /  (n1+n2-2)\n",
        "\n",
        "For a two-tailed test at a 1% significance level (α = 0.01) and df degrees of freedom, you can find the critical t-value using a t-table or calculator.\n",
        "Calculate the t-statistic and p-value:\n",
        "\n",
        "Plug in the values to calculate the t-statistic.\n",
        "Make a decision:\n",
        "\n",
        "Compare the calculated t-statistic to the critical t-value.\n",
        "If ∣t∣≤critical t-value, fail to reject the null hypothesis.\n",
        "Now, calculate the t-statistic and compare it to the critical t-value to make a decision. If the t-statistic is extreme, you may reject the null hypothesis."
      ],
      "metadata": {
        "id": "HGMs_Pq16gOx"
      }
    },
    {
      "cell_type": "markdown",
      "source": [
        "\n",
        "The estimated population mean for the number of ads watched by viewers during a TV program is within the range of 3.38 to 4.62 ads, with a 99% confidence level.\n",
        "\n",
        "\n",
        "\n",
        "\n"
      ],
      "metadata": {
        "id": "r6AlhPkk-Ctm"
      }
    },
    {
      "cell_type": "code",
      "source": [],
      "metadata": {
        "id": "y9nEoC8B-ch2"
      },
      "execution_count": null,
      "outputs": []
    }
  ]
}