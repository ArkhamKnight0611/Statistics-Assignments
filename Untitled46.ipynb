{
  "nbformat": 4,
  "nbformat_minor": 0,
  "metadata": {
    "colab": {
      "provenance": []
    },
    "kernelspec": {
      "name": "python3",
      "display_name": "Python 3"
    },
    "language_info": {
      "name": "python"
    }
  },
  "cells": [
    {
      "cell_type": "code",
      "source": [
        "import numpy as np"
      ],
      "metadata": {
        "id": "g06ypL5UQSGp"
      },
      "execution_count": 3,
      "outputs": []
    },
    {
      "cell_type": "code",
      "execution_count": null,
      "metadata": {
        "colab": {
          "base_uri": "https://localhost:8080/"
        },
        "id": "aah0c6FS-IIi",
        "outputId": "c1660369-7331-44e8-faca-48d70791c863"
      },
      "outputs": [
        {
          "output_type": "stream",
          "name": "stdout",
          "text": [
            "95% Confidence Interval: (48.1329693162095, 51.8670306837905)\n"
          ]
        }
      ],
      "source": [
        "import scipy.stats as stats\n",
        "\n",
        "# Sample information\n",
        "sample_mean = 50\n",
        "sample_stddev = 5\n",
        "sample_size = 30  # Replace with your actual sample size\n",
        "\n",
        "# Confidence level (95%)\n",
        "confidence_level = 0.95\n",
        "\n",
        "# Calculate the standard error\n",
        "standard_error = sample_stddev / (sample_size ** 0.5)\n",
        "\n",
        "# Calculate the confidence interval\n",
        "confidence_interval = stats.t.interval(confidence_level, df=sample_size-1, loc=sample_mean, scale=standard_error)\n",
        "\n",
        "# Print the confidence interval\n",
        "print(\"95% Confidence Interval:\", confidence_interval)"
      ]
    },
    {
      "cell_type": "code",
      "source": [
        "expected_frequencies = [0.2, 0.2, 0.2, 0.1, 0.1, 0.2]\n",
        "observed_data = [35, 18, 25, 14, 13, 35]\n",
        "total=sum(observed_data)\n",
        "expected_data=[prob*total for prob in expected_frequencies ]\n",
        "\n",
        "sum(expected_data),sum(observed_data)"
      ],
      "metadata": {
        "id": "M9ogp0hWBHNB",
        "colab": {
          "base_uri": "https://localhost:8080/"
        },
        "outputId": "6ec112e1-70ef-4e77-ce10-577db9027ede"
      },
      "execution_count": 5,
      "outputs": [
        {
          "output_type": "execute_result",
          "data": {
            "text/plain": [
              "(140.0, 140)"
            ]
          },
          "metadata": {},
          "execution_count": 5
        }
      ]
    },
    {
      "cell_type": "code",
      "source": [
        "chisquare_test_statistic,p_value=stats.chisquare(observed_data,expected_data)"
      ],
      "metadata": {
        "id": "RY_22-tlQKmw"
      },
      "execution_count": 7,
      "outputs": []
    },
    {
      "cell_type": "code",
      "source": [
        "chisquare_test_statistic,p_value"
      ],
      "metadata": {
        "colab": {
          "base_uri": "https://localhost:8080/"
        },
        "id": "7FHN3dlwRie_",
        "outputId": "cb0dd681-1cf2-447e-f009-2e3adbee64d2"
      },
      "execution_count": 8,
      "outputs": [
        {
          "output_type": "execute_result",
          "data": {
            "text/plain": [
              "(7.4642857142857135, 0.18833628627871574)"
            ]
          },
          "metadata": {},
          "execution_count": 8
        }
      ]
    },
    {
      "cell_type": "code",
      "source": [
        "significance_value=0.05\n",
        "dof=len(expected_data)-1\n",
        "print(dof)\n",
        "critical_value=stats.chi2.ppf(1-significance_value,dof)"
      ],
      "metadata": {
        "colab": {
          "base_uri": "https://localhost:8080/"
        },
        "id": "DkVzl83fRpfU",
        "outputId": "e17201b8-59d3-4e40-9bee-ed7ee436b7a4"
      },
      "execution_count": 9,
      "outputs": [
        {
          "output_type": "stream",
          "name": "stdout",
          "text": [
            "5\n"
          ]
        }
      ]
    },
    {
      "cell_type": "code",
      "source": [
        "if chisquare_test_statistic > critical_value:\n",
        "    print(\"Reject the null hypothesis\")\n",
        "else:\n",
        "    print(\"Accept the null hypothesis\")"
      ],
      "metadata": {
        "colab": {
          "base_uri": "https://localhost:8080/"
        },
        "id": "P3mJfgunSF1Q",
        "outputId": "69f8e43f-b3cb-4501-dbbe-b872686b050a"
      },
      "execution_count": 10,
      "outputs": [
        {
          "output_type": "stream",
          "name": "stdout",
          "text": [
            "Accept the null hypothesis\n"
          ]
        }
      ]
    },
    {
      "cell_type": "code",
      "source": [
        "\n",
        "observed_data = np.array([[20, 15],\n",
        "                          [10, 25],\n",
        "                          [15, 20]])\n",
        "\n",
        "# Perform the chi-square test for independence\n",
        "chi2_stat, p_value, _, _ = stats.chi2_contingency(observed_data)\n",
        "\n",
        "# Print the chi-square statistic and p-value\n",
        "print(f\"Chi-Square Statistic: {chi2_stat}\")\n",
        "print(f\"P-value: {p_value}\")"
      ],
      "metadata": {
        "colab": {
          "base_uri": "https://localhost:8080/"
        },
        "id": "zij91DKVSLDp",
        "outputId": "f6fbcb69-2413-424e-b655-b84bff1f85d4"
      },
      "execution_count": 13,
      "outputs": [
        {
          "output_type": "stream",
          "name": "stdout",
          "text": [
            "Chi-Square Statistic: 5.833333333333334\n",
            "P-value: 0.05411376622282158\n"
          ]
        }
      ]
    },
    {
      "cell_type": "code",
      "source": [
        "import scipy.stats as stats\n",
        "import math\n",
        "\n",
        "# Sample information\n",
        "sample_size = 500\n",
        "smokers = 60\n",
        "\n",
        "# Calculate the sample proportion\n",
        "sample_proportion = smokers / sample_size\n",
        "\n",
        "# Calculate the standard error\n",
        "standard_error = math.sqrt((sample_proportion * (1 - sample_proportion)) / sample_size)\n",
        "\n",
        "# Set the confidence level\n",
        "confidence_level = 0.95\n",
        "\n",
        "# Calculate the margin of error (critical value for a 95% confidence interval)\n",
        "z_critical = stats.norm.ppf((1 + confidence_level) / 2)\n",
        "margin_of_error = z_critical * standard_error\n",
        "\n",
        "# Calculate the confidence interval\n",
        "lower_bound = sample_proportion - margin_of_error\n",
        "upper_bound = sample_proportion + margin_of_error\n",
        "\n",
        "# Print the confidence interval\n",
        "print(f\"95% Confidence Interval for Proportion of Smokers: ({lower_bound:.4f}, {upper_bound:.4f})\")\n"
      ],
      "metadata": {
        "colab": {
          "base_uri": "https://localhost:8080/"
        },
        "id": "6TRgCqQ6iDIQ",
        "outputId": "44ff0ba0-3517-4bfc-cc4a-893a4b8ef34d"
      },
      "execution_count": 16,
      "outputs": [
        {
          "output_type": "stream",
          "name": "stdout",
          "text": [
            "95% Confidence Interval for Proportion of Smokers: (0.0915, 0.1485)\n"
          ]
        }
      ]
    },
    {
      "cell_type": "code",
      "source": [
        "# Sample information\n",
        "sample_mean = 75\n",
        "sample_stddev = 12\n",
        "sample_size = 30  # Replace with your actual sample size\n",
        "\n",
        "# Confidence level (90%)\n",
        "confidence_level = 0.90\n",
        "\n",
        "# Calculate the standard error\n",
        "standard_error = sample_stddev / (sample_size ** 0.5)\n",
        "\n",
        "# Calculate the confidence interval\n",
        "confidence_interval = stats.t.interval(confidence_level, df=sample_size-1, loc=sample_mean, scale=standard_error)\n",
        "\n",
        "# Print the confidence interval\n",
        "print(\"90% Confidence Interval:\", confidence_interval)"
      ],
      "metadata": {
        "colab": {
          "base_uri": "https://localhost:8080/"
        },
        "id": "S7z3rrU304_Q",
        "outputId": "f77bb753-2898-45c0-917d-6940f058d20b"
      },
      "execution_count": 17,
      "outputs": [
        {
          "output_type": "stream",
          "name": "stdout",
          "text": [
            "90% Confidence Interval: (71.27739919800369, 78.72260080199631)\n"
          ]
        }
      ]
    },
    {
      "cell_type": "code",
      "source": [
        "import scipy.stats as stats\n",
        "import matplotlib.pyplot as plt\n",
        "import numpy as np\n",
        "\n",
        "# Degrees of freedom\n",
        "df = 10\n",
        "\n",
        "# Generate values for the chi-square distribution\n",
        "x = np.linspace(0, 30, 500)\n",
        "y = stats.chi2.pdf(x, df)\n",
        "\n",
        "# Create the plot\n",
        "plt.figure(figsize=(8, 4))\n",
        "plt.plot(x, y, 'b-', lw=2, label='Chi-Square PDF (df=10)')\n",
        "\n",
        "# Shade the area corresponding to chi-square statistic of 15\n",
        "x_shade = np.linspace(15, 30, 500)\n",
        "y_shade = stats.chi2.pdf(x_shade, df)\n",
        "plt.fill_between(x_shade, y_shade, color='red', alpha=0.5, label='Chi-Square > 15')\n",
        "\n",
        "# Add labels and title\n",
        "plt.xlabel('Chi-Square Value')\n",
        "plt.ylabel('Probability Density')\n",
        "plt.title('Chi-Square Distribution (df=10)')\n",
        "\n",
        "# Add a vertical line at chi-square = 15\n",
        "plt.axvline(x=15, color='black', linestyle='--', lw=2, label='Chi-Square = 15')\n",
        "\n",
        "# Add legend and grid\n",
        "plt.legend()\n",
        "plt.grid(True)\n",
        "\n",
        "# Show the plot\n",
        "plt.show()\n"
      ],
      "metadata": {
        "colab": {
          "base_uri": "https://localhost:8080/",
          "height": 410
        },
        "id": "aTbaKMgG2XUQ",
        "outputId": "8a535979-1650-4ac7-cd8b-fe9728773363"
      },
      "execution_count": 19,
      "outputs": [
        {
          "output_type": "display_data",
          "data": {
            "text/plain": [
              "<Figure size 800x400 with 1 Axes>"
            ],
            "image/png": "[encoded data removed]"
          },
          "metadata": {}
        }
      ]
    },
    {
      "cell_type": "code",
      "source": [
        "import scipy.stats as stats\n",
        "\n",
        "# Sample information\n",
        "sample_size = 1000\n",
        "coke_preferred = 520\n",
        "\n",
        "# Calculate the sample proportion\n",
        "sample_proportion = coke_preferred / sample_size\n",
        "\n",
        "# Calculate the standard error\n",
        "standard_error = (sample_proportion * (1 - sample_proportion) / sample_size) ** 0.5\n",
        "\n",
        "# Set the confidence level (99%)\n",
        "confidence_level = 0.99\n",
        "\n",
        "# Calculate the margin of error\n",
        "z_critical = stats.norm.ppf((1 + confidence_level) / 2)\n",
        "margin_of_error = z_critical * standard_error\n",
        "\n",
        "# Calculate the confidence interval\n",
        "lower_bound = sample_proportion - margin_of_error\n",
        "upper_bound = sample_proportion + margin_of_error\n",
        "\n",
        "# Print the confidence interval\n",
        "print(f\"99% Confidence Interval for Proportion Preferring Coke: ({lower_bound:.4f}, {upper_bound:.4f})\")\n"
      ],
      "metadata": {
        "colab": {
          "base_uri": "https://localhost:8080/"
        },
        "id": "sLLfrB0r21GG",
        "outputId": "dfcb24e2-33dd-4ec3-b4f2-a108cfe5ca0d"
      },
      "execution_count": 20,
      "outputs": [
        {
          "output_type": "stream",
          "name": "stdout",
          "text": [
            "99% Confidence Interval for Proportion Preferring Coke: (0.4793, 0.5607)\n"
          ]
        }
      ]
    },
    {
      "cell_type": "code",
      "source": [
        "import scipy.stats as stats\n",
        "\n",
        "# Sample information\n",
        "sample_size = 1000\n",
        "coke_preferred = 520\n",
        "\n",
        "# Calculate the sample proportion\n",
        "sample_proportion = coke_preferred / sample_size\n",
        "\n",
        "# Calculate the standard error\n",
        "standard_error = (sample_proportion * (1 - sample_proportion) / sample_size) ** 0.5\n",
        "\n",
        "# Set the confidence level (99%)\n",
        "confidence_level = 0.99\n",
        "\n",
        "# Calculate the margin of error\n",
        "z_critical = stats.norm.ppf((1 + confidence_level) / 2)\n",
        "margin_of_error = z_critical * standard_error\n",
        "\n",
        "# Calculate the confidence interval\n",
        "lower_bound = sample_proportion - margin_of_error\n",
        "upper_bound = sample_proportion + margin_of_error\n",
        "\n",
        "# Print the confidence interval\n",
        "print(f\"99% Confidence Interval for Proportion Preferring Coke: ({lower_bound:.4f}, {upper_bound:.4f})\")\n"
      ],
      "metadata": {
        "colab": {
          "base_uri": "https://localhost:8080/"
        },
        "id": "VMeXwaN-3OJb",
        "outputId": "ac2bae71-17c9-4fe8-b6b0-984a989455be"
      },
      "execution_count": 24,
      "outputs": [
        {
          "output_type": "stream",
          "name": "stdout",
          "text": [
            "99% Confidence Interval for Proportion Preferring Coke: (0.4793, 0.5607)\n"
          ]
        }
      ]
    },
    {
      "cell_type": "code",
      "source": [
        "import scipy.stats as stats\n",
        "import numpy as np\n",
        "\n",
        "# Create the contingency table\n",
        "observed_data = np.array([[60, 140],\n",
        "                          [30, 170]])\n",
        "\n",
        "# Perform the chi-square test for independence\n",
        "chi2_stat, p_value, dof, expected = stats.chi2_contingency(observed_data)\n",
        "\n",
        "# Set the significance level\n",
        "alpha = 0.05\n",
        "\n",
        "# Print the results\n",
        "print(f\"Chi-Square Statistic: {chi2_stat}\")\n",
        "print(f\"P-value: {p_value}\")\n",
        "print(f\"Degrees of Freedom: {dof}\")\n",
        "print(\"Expected Frequencies:\")\n",
        "print(expected)\n",
        "\n",
        "# Determine if the result is statistically significant\n",
        "if p_value < alpha:\n",
        "    print(\"The result is statistically significant. There is a significant association between smoking status and lung cancer diagnosis.\")\n",
        "else:\n",
        "    print(\"The result is not statistically significant. There is no significant association between smoking status and lung cancer diagnosis.\")\n"
      ],
      "metadata": {
        "colab": {
          "base_uri": "https://localhost:8080/"
        },
        "id": "Q3-9rXrE3cPF",
        "outputId": "0e3f10e6-0adb-4a07-bd4d-caa376e2bf36"
      },
      "execution_count": 25,
      "outputs": [
        {
          "output_type": "stream",
          "name": "stdout",
          "text": [
            "Chi-Square Statistic: 12.057347670250895\n",
            "P-value: 0.0005158863863703744\n",
            "Degrees of Freedom: 1\n",
            "Expected Frequencies:\n",
            "[[ 45. 155.]\n",
            " [ 45. 155.]]\n",
            "The result is statistically significant. There is a significant association between smoking status and lung cancer diagnosis.\n"
          ]
        }
      ]
    },
    {
      "cell_type": "code",
      "source": [
        "import scipy.stats as stats\n",
        "import numpy as np\n",
        "\n",
        "# Create the contingency table\n",
        "observed_data = np.array([[220, 150, 150],\n",
        "                          [225, 175, 100]])\n",
        "\n",
        "# Perform the chi-square test for independence\n",
        "chi2_stat, p_value, dof, expected = stats.chi2_contingency(observed_data)\n",
        "\n",
        "# Set the significance level\n",
        "alpha = 0.01\n",
        "\n",
        "# Print the results\n",
        "print(f\"Chi-Square Statistic: {chi2_stat}\")\n",
        "print(f\"P-value: {p_value}\")\n",
        "print(f\"Degrees of Freedom: {dof}\")\n",
        "print(\"Expected Frequencies:\")\n",
        "print(expected)\n",
        "\n",
        "# Determine if the result is statistically significant\n",
        "if p_value < alpha:\n",
        "    print(\"The result is statistically significant. There is a significant association between chocolate preference and country of origin.\")\n",
        "else:\n",
        "    print(\"The result is not statistically significant. There is no significant association between chocolate preference and country of origin.\")\n"
      ],
      "metadata": {
        "colab": {
          "base_uri": "https://localhost:8080/"
        },
        "id": "gcoOzuJW42oU",
        "outputId": "8c8fa22f-da5a-465e-92d0-34df1d10ff40"
      },
      "execution_count": 27,
      "outputs": [
        {
          "output_type": "stream",
          "name": "stdout",
          "text": [
            "Chi-Square Statistic: 11.591556412472576\n",
            "P-value: 0.003040363476003943\n",
            "Degrees of Freedom: 2\n",
            "Expected Frequencies:\n",
            "[[226.8627451  165.68627451 127.45098039]\n",
            " [218.1372549  159.31372549 122.54901961]]\n",
            "The result is statistically significant. There is a significant association between chocolate preference and country of origin.\n"
          ]
        }
      ]
    },
    {
      "cell_type": "code",
      "source": [
        "import scipy.stats as stats\n",
        "\n",
        "# Sample information\n",
        "sample_mean = 72\n",
        "sample_stddev = 10\n",
        "sample_size = 30\n",
        "population_mean = 70\n",
        "\n",
        "# Perform a one-sample t-test\n",
        "t_statistic, p_value = stats.ttest_1samp([sample_mean], population_mean)\n",
        "\n",
        "# Set the significance level\n",
        "alpha = 0.05\n",
        "\n",
        "# Print the results\n",
        "print(f\"P-value: {p_value}\")\n",
        "\n",
        "# Determine if the result is statistically significant\n",
        "if p_value < alpha:\n",
        "    print(\"The result is statistically significant. Reject the null hypothesis.\")\n",
        "else:\n",
        "    print(\"The result is not statistically significant. Fail to reject the null hypothesis.\")\n"
      ],
      "metadata": {
        "colab": {
          "base_uri": "https://localhost:8080/"
        },
        "id": "uKpCpRyN5VwA",
        "outputId": "48970a66-9e61-434b-8c28-08b99c3e34d8"
      },
      "execution_count": 30,
      "outputs": [
        {
          "output_type": "stream",
          "name": "stdout",
          "text": [
            "P-value: nan\n",
            "The result is not statistically significant. Fail to reject the null hypothesis.\n"
          ]
        }
      ]
    },
    {
      "cell_type": "code",
      "source": [],
      "metadata": {
        "id": "DJLmSdqn5iqS"
      },
      "execution_count": null,
      "outputs": []
    }
  ]
}