{
  "nbformat": 4,
  "nbformat_minor": 0,
  "metadata": {
    "colab": {
      "provenance": []
    },
    "kernelspec": {
      "name": "python3",
      "display_name": "Python 3"
    },
    "language_info": {
      "name": "python"
    }
  },
  "cells": [
    {
      "cell_type": "code",
      "execution_count": 1,
      "metadata": {
        "colab": {
          "base_uri": "https://localhost:8080/"
        },
        "id": "GxMfwYVzzoPm",
        "outputId": "c78f66ee-91fb-4bf5-a936-9f690e4bbcbb"
      },
      "outputs": [
        {
          "output_type": "stream",
          "name": "stdout",
          "text": [
            "F-Value: 3.6799999999999997\n",
            "P-Value: 0.11745971092891982\n"
          ]
        }
      ],
      "source": [
        "import numpy as np\n",
        "from scipy import stats\n",
        "\n",
        "def variance_ratio_test(data1, data2):\n",
        "    \"\"\"\n",
        "    Perform a variance ratio test (F-test) on two arrays of data.\n",
        "\n",
        "    Parameters:\n",
        "    - data1: First array of data\n",
        "    - data2: Second array of data\n",
        "\n",
        "    Returns:\n",
        "    - f_value: The calculated F-value\n",
        "    - p_value: The corresponding p-value\n",
        "    \"\"\"\n",
        "\n",
        "    # Calculate the variances of the two datasets\n",
        "    var1 = np.var(data1, ddof=1)  # ddof=1 for sample variance\n",
        "    var2 = np.var(data2, ddof=1)\n",
        "\n",
        "    # Calculate the F-statistic\n",
        "    f_value = var1 / var2 if var1 >= var2 else var2 / var1\n",
        "\n",
        "    # Calculate the degrees of freedom for the F-test\n",
        "    df1 = len(data1) - 1\n",
        "    df2 = len(data2) - 1\n",
        "\n",
        "    # Calculate the p-value for the F-statistic\n",
        "    if var1 >= var2:\n",
        "        p_value = 1 - stats.f.cdf(f_value, df1, df2)\n",
        "    else:\n",
        "        p_value = 1 - stats.f.cdf(1 / f_value, df2, df1)\n",
        "\n",
        "    return f_value, p_value\n",
        "\n",
        "# Example usage:\n",
        "data1 = [12, 15, 18, 10, 14]\n",
        "data2 = [8, 9, 11, 7, 10]\n",
        "f_value, p_value = variance_ratio_test(data1, data2)\n",
        "print(\"F-Value:\", f_value)\n",
        "print(\"P-Value:\", p_value)\n"
      ]
    },
    {
      "cell_type": "code",
      "source": [
        "from scipy import stats\n",
        "\n",
        "def critical_f_value(alpha, df1, df2):\n",
        "    # Calculate the critical F-value using the percent point function (ppf) of the F-distribution\n",
        "    alpha_over_2 = alpha / 2  # Split alpha into two tails\n",
        "    critical_f = stats.f.ppf(1 - alpha_over_2, df1, df2)\n",
        "\n",
        "    return critical_f\n",
        "\n",
        "# Example usage:\n",
        "alpha = 0.05\n",
        "df1 = 3  # Degrees of freedom for the numerator\n",
        "df2 = 20  # Degrees of freedom for the denominator\n",
        "critical_f = critical_f_value(alpha, df1, df2)\n",
        "print(\"Critical F-Value:\", critical_f)\n"
      ],
      "metadata": {
        "colab": {
          "base_uri": "https://localhost:8080/"
        },
        "id": "WnsX1Abkzo46",
        "outputId": "e040dd96-db5c-4cb7-fcf3-43a4e8c0d13c"
      },
      "execution_count": 3,
      "outputs": [
        {
          "output_type": "stream",
          "name": "stdout",
          "text": [
            "Critical F-Value: 3.8586986662732143\n"
          ]
        }
      ]
    },
    {
      "cell_type": "code",
      "source": [
        "import numpy as np\n",
        "from scipy import stats\n",
        "\n",
        "# Set the seed for reproducibility\n",
        "np.random.seed(0)\n",
        "\n",
        "# Parameters\n",
        "sample_size = 30  # Sample size for each group\n",
        "variance1 = 2.0   # Variance for the first distribution\n",
        "variance2 = 3.0   # Variance for the second distribution\n",
        "alpha = 0.05      # Significance level\n",
        "\n",
        "# Generate random samples from two normal distributions\n",
        "sample1 = np.random.normal(loc=0, scale=np.sqrt(variance1), size=sample_size)\n",
        "sample2 = np.random.normal(loc=0, scale=np.sqrt(variance2), size=sample_size)\n",
        "\n",
        "# Perform an F-test for equality of variances\n",
        "f_statistic = np.var(sample1, ddof=1) / np.var(sample2, ddof=1)\n",
        "df1 = sample_size - 1\n",
        "df2 = sample_size - 1\n",
        "p_value = 2 * (1 - stats.f.cdf(f_statistic, df1, df2))\n",
        "\n",
        "# Output the results\n",
        "print(\"F-Value:\", f_statistic)\n",
        "print(\"Degrees of Freedom (numerator, denominator):\", df1, df2)\n",
        "print(\"P-Value:\", p_value)\n",
        "\n",
        "# Check if the p-value is less than the significance level\n",
        "if p_value < alpha:\n",
        "    print(\"Reject the null hypothesis: Variances are not equal.\")\n",
        "else:\n",
        "    print(\"Fail to reject the null hypothesis: Variances are equal.\")\n"
      ],
      "metadata": {
        "colab": {
          "base_uri": "https://localhost:8080/"
        },
        "id": "us3bC8wb0Ku9",
        "outputId": "eb484f2c-8b45-436b-b4a0-fb54d07d0773"
      },
      "execution_count": 4,
      "outputs": [
        {
          "output_type": "stream",
          "name": "stdout",
          "text": [
            "F-Value: 0.965682538617498\n",
            "Degrees of Freedom (numerator, denominator): 29 29\n",
            "P-Value: 1.0742680920307461\n",
            "Fail to reject the null hypothesis: Variances are equal.\n"
          ]
        }
      ]
    },
    {
      "cell_type": "code",
      "source": [
        "from scipy import stats\n",
        "\n",
        "# Known population variances\n",
        "variance1 = 10\n",
        "variance2 = 15\n",
        "\n",
        "# Sample sizes\n",
        "n1 = 12\n",
        "n2 = 12\n",
        "\n",
        "# Calculate the F-statistic\n",
        "F_statistic = variance2 / variance1\n",
        "\n",
        "# Degrees of freedom\n",
        "df1 = n2 - 1\n",
        "df2 = n1 - 1\n",
        "\n",
        "# Calculate the two-tailed p-value\n",
        "p_value = 2 * (1 - stats.f.cdf(F_statistic, df1, df2))\n",
        "\n",
        "# Significance level\n",
        "alpha = 0.05\n",
        "\n",
        "# Output the results\n",
        "print(\"F-Statistic:\", F_statistic)\n",
        "print(\"Degrees of Freedom (numerator, denominator):\", df1, df2)\n",
        "print(\"P-Value:\", p_value)\n",
        "\n",
        "# Check if the p-value is less than the significance level\n",
        "if p_value < alpha:\n",
        "    print(\"Reject the null hypothesis: Variances are not equal.\")\n",
        "else:\n",
        "    print(\"Fail to reject the null hypothesis: Variances are equal.\")\n"
      ],
      "metadata": {
        "colab": {
          "base_uri": "https://localhost:8080/"
        },
        "id": "15Gzv43J1h2s",
        "outputId": "9e2fda61-b3f9-4305-c4d4-040c846f81f1"
      },
      "execution_count": 5,
      "outputs": [
        {
          "output_type": "stream",
          "name": "stdout",
          "text": [
            "F-Statistic: 1.5\n",
            "Degrees of Freedom (numerator, denominator): 11 11\n",
            "P-Value: 0.5123897987357995\n",
            "Fail to reject the null hypothesis: Variances are equal.\n"
          ]
        }
      ]
    },
    {
      "cell_type": "code",
      "source": [
        "from scipy import stats\n",
        "\n",
        "# Manufacturer's claim about the population variance\n",
        "claimed_variance = 0.005\n",
        "\n",
        "# Sample variance\n",
        "sample_variance = 0.006\n",
        "\n",
        "# Sample size\n",
        "n = 25\n",
        "\n",
        "# Calculate the F-statistic\n",
        "F_statistic = sample_variance / claimed_variance\n",
        "\n",
        "# Degrees of freedom\n",
        "df1 = n - 1\n",
        "df2 = n - 1\n",
        "\n",
        "# Calculate the one-tailed p-value\n",
        "p_value = 1 - stats.f.cdf(F_statistic, df1, df2)\n",
        "\n",
        "# Significance level\n",
        "alpha = 0.01\n",
        "\n",
        "# Output the results\n",
        "print(\"F-Statistic:\", F_statistic)\n",
        "print(\"Degrees of Freedom (numerator, denominator):\", df1, df2)\n",
        "print(\"P-Value:\", p_value)\n",
        "\n",
        "# Check if the p-value is less than the significance level\n",
        "if p_value < alpha:\n",
        "    print(\"Reject the null hypothesis: The claim is not justified.\")\n",
        "else:\n",
        "    print(\"Fail to reject the null hypothesis: The claim is justified.\")\n"
      ],
      "metadata": {
        "colab": {
          "base_uri": "https://localhost:8080/"
        },
        "id": "vcz43dO01uqd",
        "outputId": "f60320c5-ccc1-4317-9015-471c60749b32"
      },
      "execution_count": 6,
      "outputs": [
        {
          "output_type": "stream",
          "name": "stdout",
          "text": [
            "F-Statistic: 1.2\n",
            "Degrees of Freedom (numerator, denominator): 24 24\n",
            "P-Value: 0.3293654682817244\n",
            "Fail to reject the null hypothesis: The claim is justified.\n"
          ]
        }
      ]
    },
    {
      "cell_type": "code",
      "source": [
        "def f_distribution_mean_variance(df1, df2):\n",
        "\n",
        "    # Calculate the mean of the F-distribution\n",
        "    if df2 > 2:\n",
        "        mean = df2 / (df2 - 2)\n",
        "    else:\n",
        "        mean = None  # Mean is undefined for df2 <= 2\n",
        "\n",
        "    # Calculate the variance of the F-distribution\n",
        "    if df2 > 4:\n",
        "        variance = (2 * (df2**2) * (df1 + df2 - 2)) / (df1 * (df2 - 2)**2 * (df2 - 4))\n",
        "    else:\n",
        "        variance = None  # Variance is undefined for df2 <= 4\n",
        "\n",
        "    return mean, variance\n",
        "\n",
        "# Example usage:\n",
        "df1 = 5\n",
        "df2 = 10\n",
        "mean, variance = f_distribution_mean_variance(df1, df2)\n",
        "print(\"Mean of F-distribution:\", mean)\n",
        "print(\"Variance of F-distribution:\", variance)"
      ],
      "metadata": {
        "colab": {
          "base_uri": "https://localhost:8080/"
        },
        "id": "j0TRLNcy19-V",
        "outputId": "c1f02167-a250-46df-a810-6471259af28c"
      },
      "execution_count": 7,
      "outputs": [
        {
          "output_type": "stream",
          "name": "stdout",
          "text": [
            "Mean of F-distribution: 1.25\n",
            "Variance of F-distribution: 1.3541666666666667\n"
          ]
        }
      ]
    },
    {
      "cell_type": "code",
      "source": [
        "from scipy import stats\n",
        "\n",
        "# Sample variances\n",
        "sample_variance1 = 25\n",
        "sample_variance2 = 20\n",
        "\n",
        "# Degrees of freedom\n",
        "df1 = 14  # df for the second sample\n",
        "df2 = 9   # df for the first sample\n",
        "\n",
        "# Calculate the F-statistic\n",
        "F_statistic = sample_variance2 / sample_variance1\n",
        "\n",
        "# Calculate the two-tailed p-value\n",
        "p_value = 2 * (1 - stats.f.cdf(F_statistic, df1, df2))\n",
        "\n",
        "# Significance level\n",
        "alpha = 0.10\n",
        "\n",
        "# Output the results\n",
        "print(\"F-Statistic:\", F_statistic)\n",
        "print(\"Degrees of Freedom (numerator, denominator):\", df1, df2)\n",
        "print(\"P-Value:\", p_value)\n",
        "\n",
        "# Check if the p-value is less than half of the significance level\n",
        "if p_value < alpha / 2:\n",
        "    print(\"Reject the null hypothesis: Variances are not equal.\")\n",
        "else:\n",
        "    print(\"Fail to reject the null hypothesis: Variances are equal.\")\n"
      ],
      "metadata": {
        "colab": {
          "base_uri": "https://localhost:8080/"
        },
        "id": "HHcJIEv42M06",
        "outputId": "aacc3357-56ed-42a4-ec5d-01acc7b07e75"
      },
      "execution_count": 8,
      "outputs": [
        {
          "output_type": "stream",
          "name": "stdout",
          "text": [
            "F-Statistic: 0.8\n",
            "Degrees of Freedom (numerator, denominator): 14 9\n",
            "P-Value: 1.3167805617414057\n",
            "Fail to reject the null hypothesis: Variances are equal.\n"
          ]
        }
      ]
    },
    {
      "cell_type": "code",
      "source": [
        "from scipy import stats\n",
        "\n",
        "# Data for waiting times at Restaurant A and Restaurant B\n",
        "waiting_times_A = [24, 25, 28, 23, 22, 20, 27]\n",
        "waiting_times_B = [31, 33, 35, 30, 32, 36]\n",
        "\n",
        "# Calculate the sample variances for each restaurant\n",
        "sample_variance_A = sum((x - sum(waiting_times_A) / len(waiting_times_A))**2 for x in waiting_times_A) / (len(waiting_times_A) - 1)\n",
        "sample_variance_B = sum((x - sum(waiting_times_B) / len(waiting_times_B))**2 for x in waiting_times_B) / (len(waiting_times_B) - 1)\n",
        "\n",
        "# Calculate the F-statistic\n",
        "F_statistic = sample_variance_B / sample_variance_A\n",
        "\n",
        "# Degrees of freedom\n",
        "df1 = len(waiting_times_B) - 1\n",
        "df2 = len(waiting_times_A) - 1\n",
        "\n",
        "# Calculate the two-tailed p-value\n",
        "p_value = 2 * (1 - stats.f.cdf(F_statistic, df1, df2))\n",
        "\n",
        "# Significance level\n",
        "alpha = 0.05\n",
        "\n",
        "# Output the results\n",
        "print(\"F-Statistic:\", F_statistic)\n",
        "print(\"Degrees of Freedom (numerator, denominator):\", df1, df2)\n",
        "print(\"P-Value:\", p_value)\n",
        "\n",
        "# Check if the p-value is less than half of the significance level\n",
        "if p_value < alpha / 2:\n",
        "    print(\"Reject the null hypothesis: Variances are not equal.\")\n",
        "else:\n",
        "    print(\"Fail to reject the null hypothesis: Variances are equal.\")\n"
      ],
      "metadata": {
        "colab": {
          "base_uri": "https://localhost:8080/"
        },
        "id": "O9mazj7m3MuS",
        "outputId": "7f4de3ce-a71a-4c12-e329-2b5038a08b9a"
      },
      "execution_count": 10,
      "outputs": [
        {
          "output_type": "stream",
          "name": "stdout",
          "text": [
            "F-Statistic: 0.6871951219512196\n",
            "Degrees of Freedom (numerator, denominator): 5 6\n",
            "P-Value: 1.3025184252062516\n",
            "Fail to reject the null hypothesis: Variances are equal.\n"
          ]
        }
      ]
    },
    {
      "cell_type": "code",
      "source": [
        "from scipy import stats\n",
        "\n",
        "# Data for test scores in Group A and Group B\n",
        "scores_group_A = [80, 85, 90, 92, 87, 83]\n",
        "scores_group_B = [75, 78, 82, 79, 81, 84]\n",
        "\n",
        "# Calculate the sample variances for each group\n",
        "sample_variance_A = sum((x - sum(scores_group_A) / len(scores_group_A))**2 for x in scores_group_A) / (len(scores_group_A) - 1)\n",
        "sample_variance_B = sum((x - sum(scores_group_B) / len(scores_group_B))**2 for x in scores_group_B) / (len(scores_group_B) - 1)\n",
        "\n",
        "# Calculate the F-statistic\n",
        "F_statistic = sample_variance_B / sample_variance_A\n",
        "\n",
        "# Degrees of freedom\n",
        "df1 = len(scores_group_B) - 1\n",
        "df2 = len(scores_group_A) - 1\n",
        "\n",
        "# Calculate the two-tailed p-value\n",
        "p_value = 2 * (1 - stats.f.cdf(F_statistic, df1, df2))\n",
        "\n",
        "# Significance level\n",
        "alpha = 0.01\n",
        "\n",
        "# Output the results\n",
        "print(\"F-Statistic:\", F_statistic)\n",
        "print(\"Degrees of Freedom (numerator, denominator):\", df1, df2)\n",
        "print(\"P-Value:\", p_value)\n",
        "\n",
        "# Check if the p-value is less than half of the significance level\n",
        "if p_value < alpha / 2:\n",
        "    print(\"Reject the null hypothesis: Variances are not equal.\")\n",
        "else:\n",
        "    print(\"Fail to reject the null hypothesis: Variances are equal.\")\n"
      ],
      "metadata": {
        "colab": {
          "base_uri": "https://localhost:8080/"
        },
        "id": "Tj8cJPWk3a-7",
        "outputId": "7c9164c2-ee47-4599-9574-b704d0c20ddb"
      },
      "execution_count": 11,
      "outputs": [
        {
          "output_type": "stream",
          "name": "stdout",
          "text": [
            "F-Statistic: 0.5143338954468801\n",
            "Degrees of Freedom (numerator, denominator): 5 5\n",
            "P-Value: 1.5168956450929314\n",
            "Fail to reject the null hypothesis: Variances are equal.\n"
          ]
        }
      ]
    },
    {
      "cell_type": "code",
      "source": [],
      "metadata": {
        "id": "6zhgizQx3kvB"
      },
      "execution_count": null,
      "outputs": []
    }
  ]
}